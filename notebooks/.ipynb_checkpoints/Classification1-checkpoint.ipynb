{
 "cells": [
  {
   "cell_type": "code",
   "execution_count": 1,
   "metadata": {},
   "outputs": [],
   "source": [
    "## ************ Importation des libraries ******************\n",
    "import pandas as pd ##une librarie d'analyse et manipulation de données\n",
    "import numpy as np ##librairie destinée à l'analyse et manipulation des matrices et des tableaux multidimentionnels\n",
    "import matplotlib.pyplot as plt ## librarie pour la représentation graphique \n",
    "import math\n",
    "## la librairie de sklearn est destinée à l'apprentissage automatique \n",
    "from sklearn.model_selection import train_test_split ##ceci est pour la division du dataset en un training set et un testing set\n",
    "from sklearn.model_selection import cross_validate ##ceci est utilisé pour faire de la cross validation\n",
    "from sklearn.model_selection import GridSearchCV ##ceci est utilisé pour faire le hyperparameters tuning\n",
    "from sklearn import metrics ## les différents metriques qu'on va utiliser pour mesurer la performance de nos modèles \n",
    "import joblib  ##librarie pour la transformation des modèles en des fichiers .pkl pour les exploiter dans le site web\n",
    "from sklearn.metrics import plot_confusion_matrix ## pour mesurer la qualité des modèles de classification"
   ]
  },
  {
   "cell_type": "code",
   "execution_count": 2,
   "metadata": {},
   "outputs": [],
   "source": [
    "#lecture du dataset en dataframe\n",
    "df = pd.read_csv('df_class1.csv')\n",
    "df=df.drop(df.columns[0], axis=1)\n",
    "#garder juste les features qu'on va se baser sur pour faire notre prédiction\n",
    "df = df[['failures', 'absences', 'schoolsup', 'Mjob', 'reason', 'guardian','paid', 'Fedu', 'goout', 'studytime','traveltime','pass']]"
   ]
  },
  {
   "cell_type": "code",
   "execution_count": 3,
   "metadata": {},
   "outputs": [],
   "source": [
    "# division du dataframe en features stockés sur X, et le target est stocké sur y \n",
    "X= df.drop([\"pass\"], axis=1)\n",
    "y= df[\"pass\"]"
   ]
  },
  {
   "cell_type": "code",
   "execution_count": 4,
   "metadata": {},
   "outputs": [
    {
     "data": {
      "text/html": [
       "<div>\n",
       "<style scoped>\n",
       "    .dataframe tbody tr th:only-of-type {\n",
       "        vertical-align: middle;\n",
       "    }\n",
       "\n",
       "    .dataframe tbody tr th {\n",
       "        vertical-align: top;\n",
       "    }\n",
       "\n",
       "    .dataframe thead th {\n",
       "        text-align: right;\n",
       "    }\n",
       "</style>\n",
       "<table border=\"1\" class=\"dataframe\">\n",
       "  <thead>\n",
       "    <tr style=\"text-align: right;\">\n",
       "      <th></th>\n",
       "      <th>failures</th>\n",
       "      <th>absences</th>\n",
       "      <th>schoolsup</th>\n",
       "      <th>Mjob</th>\n",
       "      <th>reason</th>\n",
       "      <th>guardian</th>\n",
       "      <th>paid</th>\n",
       "      <th>Fedu</th>\n",
       "      <th>goout</th>\n",
       "      <th>studytime</th>\n",
       "      <th>traveltime</th>\n",
       "    </tr>\n",
       "  </thead>\n",
       "  <tbody>\n",
       "    <tr>\n",
       "      <th>0</th>\n",
       "      <td>0</td>\n",
       "      <td>6</td>\n",
       "      <td>1</td>\n",
       "      <td>0</td>\n",
       "      <td>0</td>\n",
       "      <td>0</td>\n",
       "      <td>0</td>\n",
       "      <td>4</td>\n",
       "      <td>4</td>\n",
       "      <td>2</td>\n",
       "      <td>2</td>\n",
       "    </tr>\n",
       "    <tr>\n",
       "      <th>1</th>\n",
       "      <td>0</td>\n",
       "      <td>4</td>\n",
       "      <td>0</td>\n",
       "      <td>0</td>\n",
       "      <td>0</td>\n",
       "      <td>1</td>\n",
       "      <td>0</td>\n",
       "      <td>1</td>\n",
       "      <td>3</td>\n",
       "      <td>2</td>\n",
       "      <td>1</td>\n",
       "    </tr>\n",
       "    <tr>\n",
       "      <th>2</th>\n",
       "      <td>3</td>\n",
       "      <td>10</td>\n",
       "      <td>1</td>\n",
       "      <td>0</td>\n",
       "      <td>3</td>\n",
       "      <td>0</td>\n",
       "      <td>1</td>\n",
       "      <td>1</td>\n",
       "      <td>2</td>\n",
       "      <td>2</td>\n",
       "      <td>1</td>\n",
       "    </tr>\n",
       "    <tr>\n",
       "      <th>3</th>\n",
       "      <td>0</td>\n",
       "      <td>2</td>\n",
       "      <td>0</td>\n",
       "      <td>3</td>\n",
       "      <td>1</td>\n",
       "      <td>0</td>\n",
       "      <td>1</td>\n",
       "      <td>2</td>\n",
       "      <td>2</td>\n",
       "      <td>3</td>\n",
       "      <td>1</td>\n",
       "    </tr>\n",
       "    <tr>\n",
       "      <th>4</th>\n",
       "      <td>0</td>\n",
       "      <td>4</td>\n",
       "      <td>0</td>\n",
       "      <td>4</td>\n",
       "      <td>1</td>\n",
       "      <td>1</td>\n",
       "      <td>1</td>\n",
       "      <td>3</td>\n",
       "      <td>2</td>\n",
       "      <td>2</td>\n",
       "      <td>1</td>\n",
       "    </tr>\n",
       "    <tr>\n",
       "      <th>...</th>\n",
       "      <td>...</td>\n",
       "      <td>...</td>\n",
       "      <td>...</td>\n",
       "      <td>...</td>\n",
       "      <td>...</td>\n",
       "      <td>...</td>\n",
       "      <td>...</td>\n",
       "      <td>...</td>\n",
       "      <td>...</td>\n",
       "      <td>...</td>\n",
       "      <td>...</td>\n",
       "    </tr>\n",
       "    <tr>\n",
       "      <th>390</th>\n",
       "      <td>2</td>\n",
       "      <td>11</td>\n",
       "      <td>0</td>\n",
       "      <td>1</td>\n",
       "      <td>0</td>\n",
       "      <td>2</td>\n",
       "      <td>1</td>\n",
       "      <td>2</td>\n",
       "      <td>4</td>\n",
       "      <td>2</td>\n",
       "      <td>1</td>\n",
       "    </tr>\n",
       "    <tr>\n",
       "      <th>391</th>\n",
       "      <td>0</td>\n",
       "      <td>3</td>\n",
       "      <td>0</td>\n",
       "      <td>1</td>\n",
       "      <td>0</td>\n",
       "      <td>0</td>\n",
       "      <td>0</td>\n",
       "      <td>1</td>\n",
       "      <td>5</td>\n",
       "      <td>1</td>\n",
       "      <td>2</td>\n",
       "    </tr>\n",
       "    <tr>\n",
       "      <th>392</th>\n",
       "      <td>3</td>\n",
       "      <td>3</td>\n",
       "      <td>0</td>\n",
       "      <td>4</td>\n",
       "      <td>0</td>\n",
       "      <td>2</td>\n",
       "      <td>0</td>\n",
       "      <td>1</td>\n",
       "      <td>3</td>\n",
       "      <td>1</td>\n",
       "      <td>1</td>\n",
       "    </tr>\n",
       "    <tr>\n",
       "      <th>393</th>\n",
       "      <td>0</td>\n",
       "      <td>0</td>\n",
       "      <td>0</td>\n",
       "      <td>1</td>\n",
       "      <td>0</td>\n",
       "      <td>0</td>\n",
       "      <td>0</td>\n",
       "      <td>2</td>\n",
       "      <td>1</td>\n",
       "      <td>1</td>\n",
       "      <td>3</td>\n",
       "    </tr>\n",
       "    <tr>\n",
       "      <th>394</th>\n",
       "      <td>0</td>\n",
       "      <td>5</td>\n",
       "      <td>0</td>\n",
       "      <td>4</td>\n",
       "      <td>0</td>\n",
       "      <td>1</td>\n",
       "      <td>0</td>\n",
       "      <td>1</td>\n",
       "      <td>3</td>\n",
       "      <td>1</td>\n",
       "      <td>1</td>\n",
       "    </tr>\n",
       "  </tbody>\n",
       "</table>\n",
       "<p>395 rows × 11 columns</p>\n",
       "</div>"
      ],
      "text/plain": [
       "     failures  absences  schoolsup  Mjob  reason  guardian  paid  Fedu  goout  \\\n",
       "0           0         6          1     0       0         0     0     4      4   \n",
       "1           0         4          0     0       0         1     0     1      3   \n",
       "2           3        10          1     0       3         0     1     1      2   \n",
       "3           0         2          0     3       1         0     1     2      2   \n",
       "4           0         4          0     4       1         1     1     3      2   \n",
       "..        ...       ...        ...   ...     ...       ...   ...   ...    ...   \n",
       "390         2        11          0     1       0         2     1     2      4   \n",
       "391         0         3          0     1       0         0     0     1      5   \n",
       "392         3         3          0     4       0         2     0     1      3   \n",
       "393         0         0          0     1       0         0     0     2      1   \n",
       "394         0         5          0     4       0         1     0     1      3   \n",
       "\n",
       "     studytime  traveltime  \n",
       "0            2           2  \n",
       "1            2           1  \n",
       "2            2           1  \n",
       "3            3           1  \n",
       "4            2           1  \n",
       "..         ...         ...  \n",
       "390          2           1  \n",
       "391          1           2  \n",
       "392          1           1  \n",
       "393          1           3  \n",
       "394          1           1  \n",
       "\n",
       "[395 rows x 11 columns]"
      ]
     },
     "execution_count": 4,
     "metadata": {},
     "output_type": "execute_result"
    }
   ],
   "source": [
    "X"
   ]
  },
  {
   "cell_type": "code",
   "execution_count": 5,
   "metadata": {},
   "outputs": [
    {
     "data": {
      "text/plain": [
       "0      0\n",
       "1      0\n",
       "2      0\n",
       "3      1\n",
       "4      0\n",
       "      ..\n",
       "390    0\n",
       "391    1\n",
       "392    1\n",
       "393    1\n",
       "394    0\n",
       "Name: pass, Length: 395, dtype: int64"
      ]
     },
     "execution_count": 5,
     "metadata": {},
     "output_type": "execute_result"
    }
   ],
   "source": [
    "y"
   ]
  },
  {
   "cell_type": "code",
   "execution_count": 6,
   "metadata": {},
   "outputs": [
    {
     "data": {
      "text/html": [
       "<style  type=\"text/css\" >\n",
       "#T_aae55b31_d773_11eb_b27e_00155d9f2f4frow0_col0,#T_aae55b31_d773_11eb_b27e_00155d9f2f4frow1_col1,#T_aae55b31_d773_11eb_b27e_00155d9f2f4frow2_col2,#T_aae55b31_d773_11eb_b27e_00155d9f2f4frow3_col3,#T_aae55b31_d773_11eb_b27e_00155d9f2f4frow4_col4,#T_aae55b31_d773_11eb_b27e_00155d9f2f4frow5_col5,#T_aae55b31_d773_11eb_b27e_00155d9f2f4frow6_col6,#T_aae55b31_d773_11eb_b27e_00155d9f2f4frow7_col7,#T_aae55b31_d773_11eb_b27e_00155d9f2f4frow8_col8,#T_aae55b31_d773_11eb_b27e_00155d9f2f4frow9_col9,#T_aae55b31_d773_11eb_b27e_00155d9f2f4frow10_col10,#T_aae55b31_d773_11eb_b27e_00155d9f2f4frow11_col11{\n",
       "            background-color:  #b40426;\n",
       "            color:  #f1f1f1;\n",
       "        }#T_aae55b31_d773_11eb_b27e_00155d9f2f4frow0_col1,#T_aae55b31_d773_11eb_b27e_00155d9f2f4frow1_col8,#T_aae55b31_d773_11eb_b27e_00155d9f2f4frow4_col3,#T_aae55b31_d773_11eb_b27e_00155d9f2f4frow9_col4,#T_aae55b31_d773_11eb_b27e_00155d9f2f4frow10_col5{\n",
       "            background-color:  #5f7fe8;\n",
       "            color:  #000000;\n",
       "        }#T_aae55b31_d773_11eb_b27e_00155d9f2f4frow0_col2,#T_aae55b31_d773_11eb_b27e_00155d9f2f4frow3_col6,#T_aae55b31_d773_11eb_b27e_00155d9f2f4frow3_col9,#T_aae55b31_d773_11eb_b27e_00155d9f2f4frow9_col0{\n",
       "            background-color:  #6384eb;\n",
       "            color:  #000000;\n",
       "        }#T_aae55b31_d773_11eb_b27e_00155d9f2f4frow0_col3,#T_aae55b31_d773_11eb_b27e_00155d9f2f4frow0_col4{\n",
       "            background-color:  #3e51c5;\n",
       "            color:  #f1f1f1;\n",
       "        }#T_aae55b31_d773_11eb_b27e_00155d9f2f4frow0_col5,#T_aae55b31_d773_11eb_b27e_00155d9f2f4frow6_col7{\n",
       "            background-color:  #94b6ff;\n",
       "            color:  #000000;\n",
       "        }#T_aae55b31_d773_11eb_b27e_00155d9f2f4frow0_col6,#T_aae55b31_d773_11eb_b27e_00155d9f2f4frow0_col7,#T_aae55b31_d773_11eb_b27e_00155d9f2f4frow0_col9,#T_aae55b31_d773_11eb_b27e_00155d9f2f4frow0_col11,#T_aae55b31_d773_11eb_b27e_00155d9f2f4frow7_col10,#T_aae55b31_d773_11eb_b27e_00155d9f2f4frow8_col5,#T_aae55b31_d773_11eb_b27e_00155d9f2f4frow9_col1,#T_aae55b31_d773_11eb_b27e_00155d9f2f4frow10_col4,#T_aae55b31_d773_11eb_b27e_00155d9f2f4frow11_col0,#T_aae55b31_d773_11eb_b27e_00155d9f2f4frow11_col2,#T_aae55b31_d773_11eb_b27e_00155d9f2f4frow11_col3,#T_aae55b31_d773_11eb_b27e_00155d9f2f4frow11_col8{\n",
       "            background-color:  #3b4cc0;\n",
       "            color:  #f1f1f1;\n",
       "        }#T_aae55b31_d773_11eb_b27e_00155d9f2f4frow0_col8,#T_aae55b31_d773_11eb_b27e_00155d9f2f4frow9_col7{\n",
       "            background-color:  #799cf8;\n",
       "            color:  #000000;\n",
       "        }#T_aae55b31_d773_11eb_b27e_00155d9f2f4frow0_col10,#T_aae55b31_d773_11eb_b27e_00155d9f2f4frow3_col0{\n",
       "            background-color:  #81a4fb;\n",
       "            color:  #000000;\n",
       "        }#T_aae55b31_d773_11eb_b27e_00155d9f2f4frow1_col0,#T_aae55b31_d773_11eb_b27e_00155d9f2f4frow6_col11{\n",
       "            background-color:  #a1c0ff;\n",
       "            color:  #000000;\n",
       "        }#T_aae55b31_d773_11eb_b27e_00155d9f2f4frow1_col2{\n",
       "            background-color:  #6a8bef;\n",
       "            color:  #000000;\n",
       "        }#T_aae55b31_d773_11eb_b27e_00155d9f2f4frow1_col3,#T_aae55b31_d773_11eb_b27e_00155d9f2f4frow10_col6,#T_aae55b31_d773_11eb_b27e_00155d9f2f4frow10_col8{\n",
       "            background-color:  #5a78e4;\n",
       "            color:  #000000;\n",
       "        }#T_aae55b31_d773_11eb_b27e_00155d9f2f4frow1_col4,#T_aae55b31_d773_11eb_b27e_00155d9f2f4frow1_col6,#T_aae55b31_d773_11eb_b27e_00155d9f2f4frow7_col2,#T_aae55b31_d773_11eb_b27e_00155d9f2f4frow8_col6,#T_aae55b31_d773_11eb_b27e_00155d9f2f4frow9_col2{\n",
       "            background-color:  #6f92f3;\n",
       "            color:  #000000;\n",
       "        }#T_aae55b31_d773_11eb_b27e_00155d9f2f4frow1_col5,#T_aae55b31_d773_11eb_b27e_00155d9f2f4frow3_col8,#T_aae55b31_d773_11eb_b27e_00155d9f2f4frow5_col1,#T_aae55b31_d773_11eb_b27e_00155d9f2f4frow8_col1,#T_aae55b31_d773_11eb_b27e_00155d9f2f4frow8_col2{\n",
       "            background-color:  #5977e3;\n",
       "            color:  #000000;\n",
       "        }#T_aae55b31_d773_11eb_b27e_00155d9f2f4frow1_col7,#T_aae55b31_d773_11eb_b27e_00155d9f2f4frow4_col0,#T_aae55b31_d773_11eb_b27e_00155d9f2f4frow4_col7{\n",
       "            background-color:  #82a6fb;\n",
       "            color:  #000000;\n",
       "        }#T_aae55b31_d773_11eb_b27e_00155d9f2f4frow1_col9,#T_aae55b31_d773_11eb_b27e_00155d9f2f4frow3_col1,#T_aae55b31_d773_11eb_b27e_00155d9f2f4frow11_col10{\n",
       "            background-color:  #5875e1;\n",
       "            color:  #000000;\n",
       "        }#T_aae55b31_d773_11eb_b27e_00155d9f2f4frow1_col10,#T_aae55b31_d773_11eb_b27e_00155d9f2f4frow2_col10{\n",
       "            background-color:  #6282ea;\n",
       "            color:  #000000;\n",
       "        }#T_aae55b31_d773_11eb_b27e_00155d9f2f4frow1_col11{\n",
       "            background-color:  #8db0fe;\n",
       "            color:  #000000;\n",
       "        }#T_aae55b31_d773_11eb_b27e_00155d9f2f4frow2_col0{\n",
       "            background-color:  #90b2fe;\n",
       "            color:  #000000;\n",
       "        }#T_aae55b31_d773_11eb_b27e_00155d9f2f4frow2_col1,#T_aae55b31_d773_11eb_b27e_00155d9f2f4frow4_col10,#T_aae55b31_d773_11eb_b27e_00155d9f2f4frow6_col10,#T_aae55b31_d773_11eb_b27e_00155d9f2f4frow7_col1{\n",
       "            background-color:  #536edd;\n",
       "            color:  #000000;\n",
       "        }#T_aae55b31_d773_11eb_b27e_00155d9f2f4frow2_col3,#T_aae55b31_d773_11eb_b27e_00155d9f2f4frow7_col5{\n",
       "            background-color:  #4b64d5;\n",
       "            color:  #f1f1f1;\n",
       "        }#T_aae55b31_d773_11eb_b27e_00155d9f2f4frow2_col4{\n",
       "            background-color:  #4f69d9;\n",
       "            color:  #000000;\n",
       "        }#T_aae55b31_d773_11eb_b27e_00155d9f2f4frow2_col5,#T_aae55b31_d773_11eb_b27e_00155d9f2f4frow6_col3{\n",
       "            background-color:  #455cce;\n",
       "            color:  #f1f1f1;\n",
       "        }#T_aae55b31_d773_11eb_b27e_00155d9f2f4frow2_col6{\n",
       "            background-color:  #6788ee;\n",
       "            color:  #000000;\n",
       "        }#T_aae55b31_d773_11eb_b27e_00155d9f2f4frow2_col7{\n",
       "            background-color:  #85a8fc;\n",
       "            color:  #000000;\n",
       "        }#T_aae55b31_d773_11eb_b27e_00155d9f2f4frow2_col8{\n",
       "            background-color:  #465ecf;\n",
       "            color:  #f1f1f1;\n",
       "        }#T_aae55b31_d773_11eb_b27e_00155d9f2f4frow2_col9{\n",
       "            background-color:  #7597f6;\n",
       "            color:  #000000;\n",
       "        }#T_aae55b31_d773_11eb_b27e_00155d9f2f4frow2_col11{\n",
       "            background-color:  #688aef;\n",
       "            color:  #000000;\n",
       "        }#T_aae55b31_d773_11eb_b27e_00155d9f2f4frow3_col2,#T_aae55b31_d773_11eb_b27e_00155d9f2f4frow5_col3,#T_aae55b31_d773_11eb_b27e_00155d9f2f4frow6_col0,#T_aae55b31_d773_11eb_b27e_00155d9f2f4frow10_col2{\n",
       "            background-color:  #6180e9;\n",
       "            color:  #000000;\n",
       "        }#T_aae55b31_d773_11eb_b27e_00155d9f2f4frow3_col4,#T_aae55b31_d773_11eb_b27e_00155d9f2f4frow3_col5,#T_aae55b31_d773_11eb_b27e_00155d9f2f4frow5_col6,#T_aae55b31_d773_11eb_b27e_00155d9f2f4frow6_col2,#T_aae55b31_d773_11eb_b27e_00155d9f2f4frow7_col8,#T_aae55b31_d773_11eb_b27e_00155d9f2f4frow11_col4{\n",
       "            background-color:  #5e7de7;\n",
       "            color:  #000000;\n",
       "        }#T_aae55b31_d773_11eb_b27e_00155d9f2f4frow3_col7{\n",
       "            background-color:  #7093f3;\n",
       "            color:  #000000;\n",
       "        }#T_aae55b31_d773_11eb_b27e_00155d9f2f4frow3_col10,#T_aae55b31_d773_11eb_b27e_00155d9f2f4frow5_col4,#T_aae55b31_d773_11eb_b27e_00155d9f2f4frow8_col3,#T_aae55b31_d773_11eb_b27e_00155d9f2f4frow8_col9{\n",
       "            background-color:  #5673e0;\n",
       "            color:  #000000;\n",
       "        }#T_aae55b31_d773_11eb_b27e_00155d9f2f4frow3_col11{\n",
       "            background-color:  #7da0f9;\n",
       "            color:  #000000;\n",
       "        }#T_aae55b31_d773_11eb_b27e_00155d9f2f4frow4_col1,#T_aae55b31_d773_11eb_b27e_00155d9f2f4frow8_col10{\n",
       "            background-color:  #6e90f2;\n",
       "            color:  #000000;\n",
       "        }#T_aae55b31_d773_11eb_b27e_00155d9f2f4frow4_col2,#T_aae55b31_d773_11eb_b27e_00155d9f2f4frow7_col9{\n",
       "            background-color:  #6687ed;\n",
       "            color:  #000000;\n",
       "        }#T_aae55b31_d773_11eb_b27e_00155d9f2f4frow4_col5,#T_aae55b31_d773_11eb_b27e_00155d9f2f4frow6_col8,#T_aae55b31_d773_11eb_b27e_00155d9f2f4frow7_col4,#T_aae55b31_d773_11eb_b27e_00155d9f2f4frow9_col5{\n",
       "            background-color:  #5572df;\n",
       "            color:  #000000;\n",
       "        }#T_aae55b31_d773_11eb_b27e_00155d9f2f4frow4_col6{\n",
       "            background-color:  #98b9ff;\n",
       "            color:  #000000;\n",
       "        }#T_aae55b31_d773_11eb_b27e_00155d9f2f4frow4_col8,#T_aae55b31_d773_11eb_b27e_00155d9f2f4frow7_col3{\n",
       "            background-color:  #445acc;\n",
       "            color:  #f1f1f1;\n",
       "        }#T_aae55b31_d773_11eb_b27e_00155d9f2f4frow4_col9,#T_aae55b31_d773_11eb_b27e_00155d9f2f4frow6_col4{\n",
       "            background-color:  #7b9ff9;\n",
       "            color:  #000000;\n",
       "        }#T_aae55b31_d773_11eb_b27e_00155d9f2f4frow4_col11{\n",
       "            background-color:  #9fbfff;\n",
       "            color:  #000000;\n",
       "        }#T_aae55b31_d773_11eb_b27e_00155d9f2f4frow5_col0{\n",
       "            background-color:  #c9d7f0;\n",
       "            color:  #000000;\n",
       "        }#T_aae55b31_d773_11eb_b27e_00155d9f2f4frow5_col2{\n",
       "            background-color:  #5d7ce6;\n",
       "            color:  #000000;\n",
       "        }#T_aae55b31_d773_11eb_b27e_00155d9f2f4frow5_col7,#T_aae55b31_d773_11eb_b27e_00155d9f2f4frow8_col11{\n",
       "            background-color:  #7a9df8;\n",
       "            color:  #000000;\n",
       "        }#T_aae55b31_d773_11eb_b27e_00155d9f2f4frow5_col8,#T_aae55b31_d773_11eb_b27e_00155d9f2f4frow8_col4,#T_aae55b31_d773_11eb_b27e_00155d9f2f4frow9_col8,#T_aae55b31_d773_11eb_b27e_00155d9f2f4frow10_col3{\n",
       "            background-color:  #3f53c6;\n",
       "            color:  #f1f1f1;\n",
       "        }#T_aae55b31_d773_11eb_b27e_00155d9f2f4frow5_col9{\n",
       "            background-color:  #7295f4;\n",
       "            color:  #000000;\n",
       "        }#T_aae55b31_d773_11eb_b27e_00155d9f2f4frow5_col10{\n",
       "            background-color:  #779af7;\n",
       "            color:  #000000;\n",
       "        }#T_aae55b31_d773_11eb_b27e_00155d9f2f4frow5_col11{\n",
       "            background-color:  #92b4fe;\n",
       "            color:  #000000;\n",
       "        }#T_aae55b31_d773_11eb_b27e_00155d9f2f4frow6_col1,#T_aae55b31_d773_11eb_b27e_00155d9f2f4frow11_col5{\n",
       "            background-color:  #4e68d8;\n",
       "            color:  #000000;\n",
       "        }#T_aae55b31_d773_11eb_b27e_00155d9f2f4frow6_col5{\n",
       "            background-color:  #3d50c3;\n",
       "            color:  #f1f1f1;\n",
       "        }#T_aae55b31_d773_11eb_b27e_00155d9f2f4frow6_col9{\n",
       "            background-color:  #9bbcff;\n",
       "            color:  #000000;\n",
       "        }#T_aae55b31_d773_11eb_b27e_00155d9f2f4frow7_col0{\n",
       "            background-color:  #516ddb;\n",
       "            color:  #000000;\n",
       "        }#T_aae55b31_d773_11eb_b27e_00155d9f2f4frow7_col6{\n",
       "            background-color:  #86a9fc;\n",
       "            color:  #000000;\n",
       "        }#T_aae55b31_d773_11eb_b27e_00155d9f2f4frow7_col11{\n",
       "            background-color:  #c5d6f2;\n",
       "            color:  #000000;\n",
       "        }#T_aae55b31_d773_11eb_b27e_00155d9f2f4frow8_col0{\n",
       "            background-color:  #b1cbfc;\n",
       "            color:  #000000;\n",
       "        }#T_aae55b31_d773_11eb_b27e_00155d9f2f4frow8_col7{\n",
       "            background-color:  #88abfd;\n",
       "            color:  #000000;\n",
       "        }#T_aae55b31_d773_11eb_b27e_00155d9f2f4frow9_col3,#T_aae55b31_d773_11eb_b27e_00155d9f2f4frow9_col10,#T_aae55b31_d773_11eb_b27e_00155d9f2f4frow11_col1{\n",
       "            background-color:  #4961d2;\n",
       "            color:  #f1f1f1;\n",
       "        }#T_aae55b31_d773_11eb_b27e_00155d9f2f4frow9_col6{\n",
       "            background-color:  #9ebeff;\n",
       "            color:  #000000;\n",
       "        }#T_aae55b31_d773_11eb_b27e_00155d9f2f4frow9_col11{\n",
       "            background-color:  #bad0f8;\n",
       "            color:  #000000;\n",
       "        }#T_aae55b31_d773_11eb_b27e_00155d9f2f4frow10_col0{\n",
       "            background-color:  #a9c6fd;\n",
       "            color:  #000000;\n",
       "        }#T_aae55b31_d773_11eb_b27e_00155d9f2f4frow10_col1{\n",
       "            background-color:  #485fd1;\n",
       "            color:  #f1f1f1;\n",
       "        }#T_aae55b31_d773_11eb_b27e_00155d9f2f4frow10_col7{\n",
       "            background-color:  #506bda;\n",
       "            color:  #000000;\n",
       "        }#T_aae55b31_d773_11eb_b27e_00155d9f2f4frow10_col9{\n",
       "            background-color:  #4c66d6;\n",
       "            color:  #000000;\n",
       "        }#T_aae55b31_d773_11eb_b27e_00155d9f2f4frow10_col11{\n",
       "            background-color:  #84a7fc;\n",
       "            color:  #000000;\n",
       "        }#T_aae55b31_d773_11eb_b27e_00155d9f2f4frow11_col6{\n",
       "            background-color:  #80a3fa;\n",
       "            color:  #000000;\n",
       "        }#T_aae55b31_d773_11eb_b27e_00155d9f2f4frow11_col7{\n",
       "            background-color:  #b6cefa;\n",
       "            color:  #000000;\n",
       "        }#T_aae55b31_d773_11eb_b27e_00155d9f2f4frow11_col9{\n",
       "            background-color:  #9abbff;\n",
       "            color:  #000000;\n",
       "        }</style><table id=\"T_aae55b31_d773_11eb_b27e_00155d9f2f4f\" ><thead>    <tr>        <th class=\"blank level0\" ></th>        <th class=\"col_heading level0 col0\" >failures</th>        <th class=\"col_heading level0 col1\" >absences</th>        <th class=\"col_heading level0 col2\" >schoolsup</th>        <th class=\"col_heading level0 col3\" >Mjob</th>        <th class=\"col_heading level0 col4\" >reason</th>        <th class=\"col_heading level0 col5\" >guardian</th>        <th class=\"col_heading level0 col6\" >paid</th>        <th class=\"col_heading level0 col7\" >Fedu</th>        <th class=\"col_heading level0 col8\" >goout</th>        <th class=\"col_heading level0 col9\" >studytime</th>        <th class=\"col_heading level0 col10\" >traveltime</th>        <th class=\"col_heading level0 col11\" >pass</th>    </tr></thead><tbody>\n",
       "                <tr>\n",
       "                        <th id=\"T_aae55b31_d773_11eb_b27e_00155d9f2f4flevel0_row0\" class=\"row_heading level0 row0\" >failures</th>\n",
       "                        <td id=\"T_aae55b31_d773_11eb_b27e_00155d9f2f4frow0_col0\" class=\"data row0 col0\" >1.00</td>\n",
       "                        <td id=\"T_aae55b31_d773_11eb_b27e_00155d9f2f4frow0_col1\" class=\"data row0 col1\" >0.06</td>\n",
       "                        <td id=\"T_aae55b31_d773_11eb_b27e_00155d9f2f4frow0_col2\" class=\"data row0 col2\" >-0.00</td>\n",
       "                        <td id=\"T_aae55b31_d773_11eb_b27e_00155d9f2f4frow0_col3\" class=\"data row0 col3\" >-0.06</td>\n",
       "                        <td id=\"T_aae55b31_d773_11eb_b27e_00155d9f2f4frow0_col4\" class=\"data row0 col4\" >-0.05</td>\n",
       "                        <td id=\"T_aae55b31_d773_11eb_b27e_00155d9f2f4frow0_col5\" class=\"data row0 col5\" >0.22</td>\n",
       "                        <td id=\"T_aae55b31_d773_11eb_b27e_00155d9f2f4frow0_col6\" class=\"data row0 col6\" >-0.19</td>\n",
       "                        <td id=\"T_aae55b31_d773_11eb_b27e_00155d9f2f4frow0_col7\" class=\"data row0 col7\" >-0.25</td>\n",
       "                        <td id=\"T_aae55b31_d773_11eb_b27e_00155d9f2f4frow0_col8\" class=\"data row0 col8\" >0.12</td>\n",
       "                        <td id=\"T_aae55b31_d773_11eb_b27e_00155d9f2f4frow0_col9\" class=\"data row0 col9\" >-0.17</td>\n",
       "                        <td id=\"T_aae55b31_d773_11eb_b27e_00155d9f2f4frow0_col10\" class=\"data row0 col10\" >0.09</td>\n",
       "                        <td id=\"T_aae55b31_d773_11eb_b27e_00155d9f2f4frow0_col11\" class=\"data row0 col11\" >-0.35</td>\n",
       "            </tr>\n",
       "            <tr>\n",
       "                        <th id=\"T_aae55b31_d773_11eb_b27e_00155d9f2f4flevel0_row1\" class=\"row_heading level0 row1\" >absences</th>\n",
       "                        <td id=\"T_aae55b31_d773_11eb_b27e_00155d9f2f4frow1_col0\" class=\"data row1 col0\" >0.06</td>\n",
       "                        <td id=\"T_aae55b31_d773_11eb_b27e_00155d9f2f4frow1_col1\" class=\"data row1 col1\" >1.00</td>\n",
       "                        <td id=\"T_aae55b31_d773_11eb_b27e_00155d9f2f4frow1_col2\" class=\"data row1 col2\" >0.02</td>\n",
       "                        <td id=\"T_aae55b31_d773_11eb_b27e_00155d9f2f4frow1_col3\" class=\"data row1 col3\" >0.04</td>\n",
       "                        <td id=\"T_aae55b31_d773_11eb_b27e_00155d9f2f4frow1_col4\" class=\"data row1 col4\" >0.11</td>\n",
       "                        <td id=\"T_aae55b31_d773_11eb_b27e_00155d9f2f4frow1_col5\" class=\"data row1 col5\" >0.04</td>\n",
       "                        <td id=\"T_aae55b31_d773_11eb_b27e_00155d9f2f4frow1_col6\" class=\"data row1 col6\" >0.01</td>\n",
       "                        <td id=\"T_aae55b31_d773_11eb_b27e_00155d9f2f4frow1_col7\" class=\"data row1 col7\" >0.02</td>\n",
       "                        <td id=\"T_aae55b31_d773_11eb_b27e_00155d9f2f4frow1_col8\" class=\"data row1 col8\" >0.04</td>\n",
       "                        <td id=\"T_aae55b31_d773_11eb_b27e_00155d9f2f4frow1_col9\" class=\"data row1 col9\" >-0.06</td>\n",
       "                        <td id=\"T_aae55b31_d773_11eb_b27e_00155d9f2f4frow1_col10\" class=\"data row1 col10\" >-0.01</td>\n",
       "                        <td id=\"T_aae55b31_d773_11eb_b27e_00155d9f2f4frow1_col11\" class=\"data row1 col11\" >-0.01</td>\n",
       "            </tr>\n",
       "            <tr>\n",
       "                        <th id=\"T_aae55b31_d773_11eb_b27e_00155d9f2f4flevel0_row2\" class=\"row_heading level0 row2\" >schoolsup</th>\n",
       "                        <td id=\"T_aae55b31_d773_11eb_b27e_00155d9f2f4frow2_col0\" class=\"data row2 col0\" >-0.00</td>\n",
       "                        <td id=\"T_aae55b31_d773_11eb_b27e_00155d9f2f4frow2_col1\" class=\"data row2 col1\" >0.02</td>\n",
       "                        <td id=\"T_aae55b31_d773_11eb_b27e_00155d9f2f4frow2_col2\" class=\"data row2 col2\" >1.00</td>\n",
       "                        <td id=\"T_aae55b31_d773_11eb_b27e_00155d9f2f4frow2_col3\" class=\"data row2 col3\" >-0.01</td>\n",
       "                        <td id=\"T_aae55b31_d773_11eb_b27e_00155d9f2f4frow2_col4\" class=\"data row2 col4\" >0.01</td>\n",
       "                        <td id=\"T_aae55b31_d773_11eb_b27e_00155d9f2f4frow2_col5\" class=\"data row2 col5\" >-0.02</td>\n",
       "                        <td id=\"T_aae55b31_d773_11eb_b27e_00155d9f2f4frow2_col6\" class=\"data row2 col6\" >-0.02</td>\n",
       "                        <td id=\"T_aae55b31_d773_11eb_b27e_00155d9f2f4frow2_col7\" class=\"data row2 col7\" >0.04</td>\n",
       "                        <td id=\"T_aae55b31_d773_11eb_b27e_00155d9f2f4frow2_col8\" class=\"data row2 col8\" >-0.04</td>\n",
       "                        <td id=\"T_aae55b31_d773_11eb_b27e_00155d9f2f4frow2_col9\" class=\"data row2 col9\" >0.04</td>\n",
       "                        <td id=\"T_aae55b31_d773_11eb_b27e_00155d9f2f4frow2_col10\" class=\"data row2 col10\" >-0.01</td>\n",
       "                        <td id=\"T_aae55b31_d773_11eb_b27e_00155d9f2f4frow2_col11\" class=\"data row2 col11\" >-0.15</td>\n",
       "            </tr>\n",
       "            <tr>\n",
       "                        <th id=\"T_aae55b31_d773_11eb_b27e_00155d9f2f4flevel0_row3\" class=\"row_heading level0 row3\" >Mjob</th>\n",
       "                        <td id=\"T_aae55b31_d773_11eb_b27e_00155d9f2f4frow3_col0\" class=\"data row3 col0\" >-0.06</td>\n",
       "                        <td id=\"T_aae55b31_d773_11eb_b27e_00155d9f2f4frow3_col1\" class=\"data row3 col1\" >0.04</td>\n",
       "                        <td id=\"T_aae55b31_d773_11eb_b27e_00155d9f2f4frow3_col2\" class=\"data row3 col2\" >-0.01</td>\n",
       "                        <td id=\"T_aae55b31_d773_11eb_b27e_00155d9f2f4frow3_col3\" class=\"data row3 col3\" >1.00</td>\n",
       "                        <td id=\"T_aae55b31_d773_11eb_b27e_00155d9f2f4frow3_col4\" class=\"data row3 col4\" >0.05</td>\n",
       "                        <td id=\"T_aae55b31_d773_11eb_b27e_00155d9f2f4frow3_col5\" class=\"data row3 col5\" >0.06</td>\n",
       "                        <td id=\"T_aae55b31_d773_11eb_b27e_00155d9f2f4frow3_col6\" class=\"data row3 col6\" >-0.03</td>\n",
       "                        <td id=\"T_aae55b31_d773_11eb_b27e_00155d9f2f4frow3_col7\" class=\"data row3 col7\" >-0.04</td>\n",
       "                        <td id=\"T_aae55b31_d773_11eb_b27e_00155d9f2f4frow3_col8\" class=\"data row3 col8\" >0.02</td>\n",
       "                        <td id=\"T_aae55b31_d773_11eb_b27e_00155d9f2f4frow3_col9\" class=\"data row3 col9\" >-0.02</td>\n",
       "                        <td id=\"T_aae55b31_d773_11eb_b27e_00155d9f2f4frow3_col10\" class=\"data row3 col10\" >-0.05</td>\n",
       "                        <td id=\"T_aae55b31_d773_11eb_b27e_00155d9f2f4frow3_col11\" class=\"data row3 col11\" >-0.07</td>\n",
       "            </tr>\n",
       "            <tr>\n",
       "                        <th id=\"T_aae55b31_d773_11eb_b27e_00155d9f2f4flevel0_row4\" class=\"row_heading level0 row4\" >reason</th>\n",
       "                        <td id=\"T_aae55b31_d773_11eb_b27e_00155d9f2f4frow4_col0\" class=\"data row4 col0\" >-0.05</td>\n",
       "                        <td id=\"T_aae55b31_d773_11eb_b27e_00155d9f2f4frow4_col1\" class=\"data row4 col1\" >0.11</td>\n",
       "                        <td id=\"T_aae55b31_d773_11eb_b27e_00155d9f2f4frow4_col2\" class=\"data row4 col2\" >0.01</td>\n",
       "                        <td id=\"T_aae55b31_d773_11eb_b27e_00155d9f2f4frow4_col3\" class=\"data row4 col3\" >0.05</td>\n",
       "                        <td id=\"T_aae55b31_d773_11eb_b27e_00155d9f2f4frow4_col4\" class=\"data row4 col4\" >1.00</td>\n",
       "                        <td id=\"T_aae55b31_d773_11eb_b27e_00155d9f2f4frow4_col5\" class=\"data row4 col5\" >0.03</td>\n",
       "                        <td id=\"T_aae55b31_d773_11eb_b27e_00155d9f2f4frow4_col6\" class=\"data row4 col6\" >0.15</td>\n",
       "                        <td id=\"T_aae55b31_d773_11eb_b27e_00155d9f2f4frow4_col7\" class=\"data row4 col7\" >0.03</td>\n",
       "                        <td id=\"T_aae55b31_d773_11eb_b27e_00155d9f2f4frow4_col8\" class=\"data row4 col8\" >-0.05</td>\n",
       "                        <td id=\"T_aae55b31_d773_11eb_b27e_00155d9f2f4frow4_col9\" class=\"data row4 col9\" >0.06</td>\n",
       "                        <td id=\"T_aae55b31_d773_11eb_b27e_00155d9f2f4frow4_col10\" class=\"data row4 col10\" >-0.07</td>\n",
       "                        <td id=\"T_aae55b31_d773_11eb_b27e_00155d9f2f4frow4_col11\" class=\"data row4 col11\" >0.06</td>\n",
       "            </tr>\n",
       "            <tr>\n",
       "                        <th id=\"T_aae55b31_d773_11eb_b27e_00155d9f2f4flevel0_row5\" class=\"row_heading level0 row5\" >guardian</th>\n",
       "                        <td id=\"T_aae55b31_d773_11eb_b27e_00155d9f2f4frow5_col0\" class=\"data row5 col0\" >0.22</td>\n",
       "                        <td id=\"T_aae55b31_d773_11eb_b27e_00155d9f2f4frow5_col1\" class=\"data row5 col1\" >0.04</td>\n",
       "                        <td id=\"T_aae55b31_d773_11eb_b27e_00155d9f2f4frow5_col2\" class=\"data row5 col2\" >-0.02</td>\n",
       "                        <td id=\"T_aae55b31_d773_11eb_b27e_00155d9f2f4frow5_col3\" class=\"data row5 col3\" >0.06</td>\n",
       "                        <td id=\"T_aae55b31_d773_11eb_b27e_00155d9f2f4frow5_col4\" class=\"data row5 col4\" >0.03</td>\n",
       "                        <td id=\"T_aae55b31_d773_11eb_b27e_00155d9f2f4frow5_col5\" class=\"data row5 col5\" >1.00</td>\n",
       "                        <td id=\"T_aae55b31_d773_11eb_b27e_00155d9f2f4frow5_col6\" class=\"data row5 col6\" >-0.05</td>\n",
       "                        <td id=\"T_aae55b31_d773_11eb_b27e_00155d9f2f4frow5_col7\" class=\"data row5 col7\" >-0.00</td>\n",
       "                        <td id=\"T_aae55b31_d773_11eb_b27e_00155d9f2f4frow5_col8\" class=\"data row5 col8\" >-0.06</td>\n",
       "                        <td id=\"T_aae55b31_d773_11eb_b27e_00155d9f2f4frow5_col9\" class=\"data row5 col9\" >0.03</td>\n",
       "                        <td id=\"T_aae55b31_d773_11eb_b27e_00155d9f2f4frow5_col10\" class=\"data row5 col10\" >0.06</td>\n",
       "                        <td id=\"T_aae55b31_d773_11eb_b27e_00155d9f2f4frow5_col11\" class=\"data row5 col11\" >0.00</td>\n",
       "            </tr>\n",
       "            <tr>\n",
       "                        <th id=\"T_aae55b31_d773_11eb_b27e_00155d9f2f4flevel0_row6\" class=\"row_heading level0 row6\" >paid</th>\n",
       "                        <td id=\"T_aae55b31_d773_11eb_b27e_00155d9f2f4frow6_col0\" class=\"data row6 col0\" >-0.19</td>\n",
       "                        <td id=\"T_aae55b31_d773_11eb_b27e_00155d9f2f4frow6_col1\" class=\"data row6 col1\" >0.01</td>\n",
       "                        <td id=\"T_aae55b31_d773_11eb_b27e_00155d9f2f4frow6_col2\" class=\"data row6 col2\" >-0.02</td>\n",
       "                        <td id=\"T_aae55b31_d773_11eb_b27e_00155d9f2f4frow6_col3\" class=\"data row6 col3\" >-0.03</td>\n",
       "                        <td id=\"T_aae55b31_d773_11eb_b27e_00155d9f2f4frow6_col4\" class=\"data row6 col4\" >0.15</td>\n",
       "                        <td id=\"T_aae55b31_d773_11eb_b27e_00155d9f2f4frow6_col5\" class=\"data row6 col5\" >-0.05</td>\n",
       "                        <td id=\"T_aae55b31_d773_11eb_b27e_00155d9f2f4frow6_col6\" class=\"data row6 col6\" >1.00</td>\n",
       "                        <td id=\"T_aae55b31_d773_11eb_b27e_00155d9f2f4frow6_col7\" class=\"data row6 col7\" >0.09</td>\n",
       "                        <td id=\"T_aae55b31_d773_11eb_b27e_00155d9f2f4frow6_col8\" class=\"data row6 col8\" >0.01</td>\n",
       "                        <td id=\"T_aae55b31_d773_11eb_b27e_00155d9f2f4frow6_col9\" class=\"data row6 col9\" >0.17</td>\n",
       "                        <td id=\"T_aae55b31_d773_11eb_b27e_00155d9f2f4frow6_col10\" class=\"data row6 col10\" >-0.07</td>\n",
       "                        <td id=\"T_aae55b31_d773_11eb_b27e_00155d9f2f4frow6_col11\" class=\"data row6 col11\" >0.06</td>\n",
       "            </tr>\n",
       "            <tr>\n",
       "                        <th id=\"T_aae55b31_d773_11eb_b27e_00155d9f2f4flevel0_row7\" class=\"row_heading level0 row7\" >Fedu</th>\n",
       "                        <td id=\"T_aae55b31_d773_11eb_b27e_00155d9f2f4frow7_col0\" class=\"data row7 col0\" >-0.25</td>\n",
       "                        <td id=\"T_aae55b31_d773_11eb_b27e_00155d9f2f4frow7_col1\" class=\"data row7 col1\" >0.02</td>\n",
       "                        <td id=\"T_aae55b31_d773_11eb_b27e_00155d9f2f4frow7_col2\" class=\"data row7 col2\" >0.04</td>\n",
       "                        <td id=\"T_aae55b31_d773_11eb_b27e_00155d9f2f4frow7_col3\" class=\"data row7 col3\" >-0.04</td>\n",
       "                        <td id=\"T_aae55b31_d773_11eb_b27e_00155d9f2f4frow7_col4\" class=\"data row7 col4\" >0.03</td>\n",
       "                        <td id=\"T_aae55b31_d773_11eb_b27e_00155d9f2f4frow7_col5\" class=\"data row7 col5\" >-0.00</td>\n",
       "                        <td id=\"T_aae55b31_d773_11eb_b27e_00155d9f2f4frow7_col6\" class=\"data row7 col6\" >0.09</td>\n",
       "                        <td id=\"T_aae55b31_d773_11eb_b27e_00155d9f2f4frow7_col7\" class=\"data row7 col7\" >1.00</td>\n",
       "                        <td id=\"T_aae55b31_d773_11eb_b27e_00155d9f2f4frow7_col8\" class=\"data row7 col8\" >0.04</td>\n",
       "                        <td id=\"T_aae55b31_d773_11eb_b27e_00155d9f2f4frow7_col9\" class=\"data row7 col9\" >-0.01</td>\n",
       "                        <td id=\"T_aae55b31_d773_11eb_b27e_00155d9f2f4frow7_col10\" class=\"data row7 col10\" >-0.16</td>\n",
       "                        <td id=\"T_aae55b31_d773_11eb_b27e_00155d9f2f4frow7_col11\" class=\"data row7 col11\" >0.21</td>\n",
       "            </tr>\n",
       "            <tr>\n",
       "                        <th id=\"T_aae55b31_d773_11eb_b27e_00155d9f2f4flevel0_row8\" class=\"row_heading level0 row8\" >goout</th>\n",
       "                        <td id=\"T_aae55b31_d773_11eb_b27e_00155d9f2f4frow8_col0\" class=\"data row8 col0\" >0.12</td>\n",
       "                        <td id=\"T_aae55b31_d773_11eb_b27e_00155d9f2f4frow8_col1\" class=\"data row8 col1\" >0.04</td>\n",
       "                        <td id=\"T_aae55b31_d773_11eb_b27e_00155d9f2f4frow8_col2\" class=\"data row8 col2\" >-0.04</td>\n",
       "                        <td id=\"T_aae55b31_d773_11eb_b27e_00155d9f2f4frow8_col3\" class=\"data row8 col3\" >0.02</td>\n",
       "                        <td id=\"T_aae55b31_d773_11eb_b27e_00155d9f2f4frow8_col4\" class=\"data row8 col4\" >-0.05</td>\n",
       "                        <td id=\"T_aae55b31_d773_11eb_b27e_00155d9f2f4frow8_col5\" class=\"data row8 col5\" >-0.06</td>\n",
       "                        <td id=\"T_aae55b31_d773_11eb_b27e_00155d9f2f4frow8_col6\" class=\"data row8 col6\" >0.01</td>\n",
       "                        <td id=\"T_aae55b31_d773_11eb_b27e_00155d9f2f4frow8_col7\" class=\"data row8 col7\" >0.04</td>\n",
       "                        <td id=\"T_aae55b31_d773_11eb_b27e_00155d9f2f4frow8_col8\" class=\"data row8 col8\" >1.00</td>\n",
       "                        <td id=\"T_aae55b31_d773_11eb_b27e_00155d9f2f4frow8_col9\" class=\"data row8 col9\" >-0.06</td>\n",
       "                        <td id=\"T_aae55b31_d773_11eb_b27e_00155d9f2f4frow8_col10\" class=\"data row8 col10\" >0.03</td>\n",
       "                        <td id=\"T_aae55b31_d773_11eb_b27e_00155d9f2f4frow8_col11\" class=\"data row8 col11\" >-0.08</td>\n",
       "            </tr>\n",
       "            <tr>\n",
       "                        <th id=\"T_aae55b31_d773_11eb_b27e_00155d9f2f4flevel0_row9\" class=\"row_heading level0 row9\" >studytime</th>\n",
       "                        <td id=\"T_aae55b31_d773_11eb_b27e_00155d9f2f4frow9_col0\" class=\"data row9 col0\" >-0.17</td>\n",
       "                        <td id=\"T_aae55b31_d773_11eb_b27e_00155d9f2f4frow9_col1\" class=\"data row9 col1\" >-0.06</td>\n",
       "                        <td id=\"T_aae55b31_d773_11eb_b27e_00155d9f2f4frow9_col2\" class=\"data row9 col2\" >0.04</td>\n",
       "                        <td id=\"T_aae55b31_d773_11eb_b27e_00155d9f2f4frow9_col3\" class=\"data row9 col3\" >-0.02</td>\n",
       "                        <td id=\"T_aae55b31_d773_11eb_b27e_00155d9f2f4frow9_col4\" class=\"data row9 col4\" >0.06</td>\n",
       "                        <td id=\"T_aae55b31_d773_11eb_b27e_00155d9f2f4frow9_col5\" class=\"data row9 col5\" >0.03</td>\n",
       "                        <td id=\"T_aae55b31_d773_11eb_b27e_00155d9f2f4frow9_col6\" class=\"data row9 col6\" >0.17</td>\n",
       "                        <td id=\"T_aae55b31_d773_11eb_b27e_00155d9f2f4frow9_col7\" class=\"data row9 col7\" >-0.01</td>\n",
       "                        <td id=\"T_aae55b31_d773_11eb_b27e_00155d9f2f4frow9_col8\" class=\"data row9 col8\" >-0.06</td>\n",
       "                        <td id=\"T_aae55b31_d773_11eb_b27e_00155d9f2f4frow9_col9\" class=\"data row9 col9\" >1.00</td>\n",
       "                        <td id=\"T_aae55b31_d773_11eb_b27e_00155d9f2f4frow9_col10\" class=\"data row9 col10\" >-0.10</td>\n",
       "                        <td id=\"T_aae55b31_d773_11eb_b27e_00155d9f2f4frow9_col11\" class=\"data row9 col11\" >0.16</td>\n",
       "            </tr>\n",
       "            <tr>\n",
       "                        <th id=\"T_aae55b31_d773_11eb_b27e_00155d9f2f4flevel0_row10\" class=\"row_heading level0 row10\" >traveltime</th>\n",
       "                        <td id=\"T_aae55b31_d773_11eb_b27e_00155d9f2f4frow10_col0\" class=\"data row10 col0\" >0.09</td>\n",
       "                        <td id=\"T_aae55b31_d773_11eb_b27e_00155d9f2f4frow10_col1\" class=\"data row10 col1\" >-0.01</td>\n",
       "                        <td id=\"T_aae55b31_d773_11eb_b27e_00155d9f2f4frow10_col2\" class=\"data row10 col2\" >-0.01</td>\n",
       "                        <td id=\"T_aae55b31_d773_11eb_b27e_00155d9f2f4frow10_col3\" class=\"data row10 col3\" >-0.05</td>\n",
       "                        <td id=\"T_aae55b31_d773_11eb_b27e_00155d9f2f4frow10_col4\" class=\"data row10 col4\" >-0.07</td>\n",
       "                        <td id=\"T_aae55b31_d773_11eb_b27e_00155d9f2f4frow10_col5\" class=\"data row10 col5\" >0.06</td>\n",
       "                        <td id=\"T_aae55b31_d773_11eb_b27e_00155d9f2f4frow10_col6\" class=\"data row10 col6\" >-0.07</td>\n",
       "                        <td id=\"T_aae55b31_d773_11eb_b27e_00155d9f2f4frow10_col7\" class=\"data row10 col7\" >-0.16</td>\n",
       "                        <td id=\"T_aae55b31_d773_11eb_b27e_00155d9f2f4frow10_col8\" class=\"data row10 col8\" >0.03</td>\n",
       "                        <td id=\"T_aae55b31_d773_11eb_b27e_00155d9f2f4frow10_col9\" class=\"data row10 col9\" >-0.10</td>\n",
       "                        <td id=\"T_aae55b31_d773_11eb_b27e_00155d9f2f4frow10_col10\" class=\"data row10 col10\" >1.00</td>\n",
       "                        <td id=\"T_aae55b31_d773_11eb_b27e_00155d9f2f4frow10_col11\" class=\"data row10 col11\" >-0.05</td>\n",
       "            </tr>\n",
       "            <tr>\n",
       "                        <th id=\"T_aae55b31_d773_11eb_b27e_00155d9f2f4flevel0_row11\" class=\"row_heading level0 row11\" >pass</th>\n",
       "                        <td id=\"T_aae55b31_d773_11eb_b27e_00155d9f2f4frow11_col0\" class=\"data row11 col0\" >-0.35</td>\n",
       "                        <td id=\"T_aae55b31_d773_11eb_b27e_00155d9f2f4frow11_col1\" class=\"data row11 col1\" >-0.01</td>\n",
       "                        <td id=\"T_aae55b31_d773_11eb_b27e_00155d9f2f4frow11_col2\" class=\"data row11 col2\" >-0.15</td>\n",
       "                        <td id=\"T_aae55b31_d773_11eb_b27e_00155d9f2f4frow11_col3\" class=\"data row11 col3\" >-0.07</td>\n",
       "                        <td id=\"T_aae55b31_d773_11eb_b27e_00155d9f2f4frow11_col4\" class=\"data row11 col4\" >0.06</td>\n",
       "                        <td id=\"T_aae55b31_d773_11eb_b27e_00155d9f2f4frow11_col5\" class=\"data row11 col5\" >0.00</td>\n",
       "                        <td id=\"T_aae55b31_d773_11eb_b27e_00155d9f2f4frow11_col6\" class=\"data row11 col6\" >0.06</td>\n",
       "                        <td id=\"T_aae55b31_d773_11eb_b27e_00155d9f2f4frow11_col7\" class=\"data row11 col7\" >0.21</td>\n",
       "                        <td id=\"T_aae55b31_d773_11eb_b27e_00155d9f2f4frow11_col8\" class=\"data row11 col8\" >-0.08</td>\n",
       "                        <td id=\"T_aae55b31_d773_11eb_b27e_00155d9f2f4frow11_col9\" class=\"data row11 col9\" >0.16</td>\n",
       "                        <td id=\"T_aae55b31_d773_11eb_b27e_00155d9f2f4frow11_col10\" class=\"data row11 col10\" >-0.05</td>\n",
       "                        <td id=\"T_aae55b31_d773_11eb_b27e_00155d9f2f4frow11_col11\" class=\"data row11 col11\" >1.00</td>\n",
       "            </tr>\n",
       "    </tbody></table>"
      ],
      "text/plain": [
       "<pandas.io.formats.style.Styler at 0x29d21f28580>"
      ]
     },
     "execution_count": 6,
     "metadata": {},
     "output_type": "execute_result"
    }
   ],
   "source": [
    "# matrice de correlation pour voir la dependence entre les features et le target \n",
    "corr = df.corr()\n",
    "corr.style.background_gradient(cmap='coolwarm').set_precision(2)"
   ]
  },
  {
   "cell_type": "code",
   "execution_count": 7,
   "metadata": {},
   "outputs": [],
   "source": [
    "# diviser X et y en 2 sets : training et testing sets\n",
    "from sklearn.model_selection import train_test_split\n",
    "X_train, X_test, y_train, y_test = train_test_split(X, y, test_size= 0.2, random_state=0)"
   ]
  },
  {
   "cell_type": "markdown",
   "metadata": {},
   "source": [
    "## Logistic Regression"
   ]
  },
  {
   "cell_type": "code",
   "execution_count": 8,
   "metadata": {},
   "outputs": [
    {
     "name": "stdout",
     "output_type": "stream",
     "text": [
      "Accuracy = 0.76\n"
     ]
    },
    {
     "data": {
      "text/plain": [
       "0.6960897435897436"
      ]
     },
     "execution_count": 8,
     "metadata": {},
     "output_type": "execute_result"
    }
   ],
   "source": [
    "from sklearn.linear_model import LogisticRegression\n",
    "#application du l'algorithme logistic regression avec la précision des paramètres \n",
    "logreg= LogisticRegression(C= 0.1, solver= 'newton-cg')\n",
    "#le training \n",
    "logreg.fit(X_train, y_train)\n",
    "# la prediction fait sur X_test \n",
    "Y_pred_logreg= logreg.predict(X_test)\n",
    "from sklearn.model_selection import cross_val_score\n",
    "# accuracy de la prédiction \n",
    "score_logreg = logreg.score(X_test, y_test)\n",
    "#affichage de l'accuracy\n",
    "print(\"Accuracy = {:.2f}\".format(score_logreg))\n",
    "# utiliser la cross validation et affichage de son accuracy\n",
    "cross_val_score(logreg, X, y, cv=10, scoring='accuracy').mean()"
   ]
  },
  {
   "cell_type": "code",
   "execution_count": 9,
   "metadata": {},
   "outputs": [
    {
     "data": {
      "text/plain": [
       "['Models1/logistic_reg.pkl']"
      ]
     },
     "execution_count": 9,
     "metadata": {},
     "output_type": "execute_result"
    }
   ],
   "source": [
    "# enregistrement du modèle pour l'exploiter après dans le site web\n",
    "file = \"Models1/logistic_reg.pkl\"\n",
    "joblib.dump(logreg, file)"
   ]
  },
  {
   "cell_type": "markdown",
   "metadata": {},
   "source": [
    "## Random Forest Algorithm"
   ]
  },
  {
   "cell_type": "code",
   "execution_count": 10,
   "metadata": {},
   "outputs": [
    {
     "name": "stdout",
     "output_type": "stream",
     "text": [
      "Accuracy = 0.72\n"
     ]
    },
    {
     "data": {
      "text/plain": [
       "0.6222435897435897"
      ]
     },
     "execution_count": 10,
     "metadata": {},
     "output_type": "execute_result"
    }
   ],
   "source": [
    "from sklearn.ensemble import RandomForestClassifier\n",
    "#application du l'algorithme random_forest avec la précision de son paramètre  \n",
    "forest = RandomForestClassifier(n_estimators=10)\n",
    "#le training\n",
    "forest.fit(X_train,y_train)\n",
    "# la prediction fait sur X_test \n",
    "Y_pred_forest= forest.predict(X_test)\n",
    "# accuracy de la prédiction \n",
    "score_forest = forest.score(X_test, y_test)\n",
    "#affichage de l'accuracy\n",
    "print(\"Accuracy = {:.2f}\".format(score_forest))\n",
    "# utiliser la cross validation et affichage de son accuracy\n",
    "cross_val_score(forest, X, y, cv=10, scoring='accuracy').mean()"
   ]
  },
  {
   "cell_type": "code",
   "execution_count": 11,
   "metadata": {},
   "outputs": [
    {
     "data": {
      "text/plain": [
       "['Models1/random_forest.pkl']"
      ]
     },
     "execution_count": 11,
     "metadata": {},
     "output_type": "execute_result"
    }
   ],
   "source": [
    "# enregistrement du modèle pour l'exploiter après dans le site web\n",
    "file = \"Models1/random_forest.pkl\"\n",
    "joblib.dump(forest, file)"
   ]
  },
  {
   "cell_type": "markdown",
   "metadata": {},
   "source": [
    "## K Nearest Neighbours Algorithm (KNN)"
   ]
  },
  {
   "cell_type": "code",
   "execution_count": 12,
   "metadata": {},
   "outputs": [
    {
     "name": "stdout",
     "output_type": "stream",
     "text": [
      "Accuracy = 0.68\n"
     ]
    },
    {
     "data": {
      "text/plain": [
       "0.6557051282051283"
      ]
     },
     "execution_count": 12,
     "metadata": {},
     "output_type": "execute_result"
    }
   ],
   "source": [
    "from sklearn.neighbors import KNeighborsClassifier\n",
    "#application du l'algorithme KNN avec la précision de ses paramètres \n",
    "knn = KNeighborsClassifier(n_neighbors=18, weights='distance')\n",
    "#training \n",
    "knn.fit(X_train, y_train)\n",
    "# la prediction fait sur X_test \n",
    "Y_pred_knn = knn.predict(X_test)\n",
    "# accuracy de la prédiction \n",
    "score_knn = knn.score(X_test, y_test)\n",
    "#affichage de l'accuracy\n",
    "print(\"Accuracy = {:.2f}\".format(score_knn))\n",
    "# utiliser la cross validation et affichage de son accuracy\n",
    "cross_val_score(knn, X, y, cv=10, scoring='accuracy').mean()"
   ]
  },
  {
   "cell_type": "code",
   "execution_count": 13,
   "metadata": {},
   "outputs": [
    {
     "data": {
      "text/plain": [
       "['Models1/knn.pkl']"
      ]
     },
     "execution_count": 13,
     "metadata": {},
     "output_type": "execute_result"
    }
   ],
   "source": [
    "# enregistrement du modèle pour l'exploiter après dans le site web\n",
    "file = \"Models1/knn.pkl\"\n",
    "joblib.dump(knn, file)"
   ]
  },
  {
   "cell_type": "markdown",
   "metadata": {},
   "source": [
    "## Gradient Boosting Classifier"
   ]
  },
  {
   "cell_type": "code",
   "execution_count": 14,
   "metadata": {},
   "outputs": [
    {
     "name": "stdout",
     "output_type": "stream",
     "text": [
      "Accuracy = 0.72\n"
     ]
    },
    {
     "data": {
      "text/plain": [
       "0.6757051282051283"
      ]
     },
     "execution_count": 14,
     "metadata": {},
     "output_type": "execute_result"
    }
   ],
   "source": [
    "from sklearn.ensemble import GradientBoostingClassifier\n",
    "#application du l'algorithme gradient boosting classifier avec la précision de ses paramètres \n",
    "gradient = GradientBoostingClassifier()\n",
    "#training \n",
    "gradient.fit(X_train, y_train)\n",
    "# la prediction fait sur X_test \n",
    "Y_pred_gradient = gradient.predict(X_test)\n",
    "# accuracy de la prédiction \n",
    "score_gradient =gradient.score(X_test, y_test)\n",
    "#affichage de l'accuracy\n",
    "print(\"Accuracy = {:.2f}\".format(score_gradient))\n",
    "# utiliser la cross validation et affichage de son accuracy\n",
    "cross_val_score(gradient, X, y, cv=10, scoring='accuracy').mean()"
   ]
  },
  {
   "cell_type": "code",
   "execution_count": 15,
   "metadata": {},
   "outputs": [
    {
     "data": {
      "text/plain": [
       "['Models1/gradient_boosting.pkl']"
      ]
     },
     "execution_count": 15,
     "metadata": {},
     "output_type": "execute_result"
    }
   ],
   "source": [
    "# enregistrement du modèle pour l'exploiter après dans le site web\n",
    "file = \"Models1/gradient_boosting.pkl\"\n",
    "joblib.dump(gradient, file)"
   ]
  },
  {
   "cell_type": "markdown",
   "metadata": {},
   "source": [
    "## Decision Tree"
   ]
  },
  {
   "cell_type": "code",
   "execution_count": 16,
   "metadata": {},
   "outputs": [
    {
     "name": "stdout",
     "output_type": "stream",
     "text": [
      "Accuracy = 0.59\n"
     ]
    },
    {
     "data": {
      "text/plain": [
       "0.5867948717948718"
      ]
     },
     "execution_count": 16,
     "metadata": {},
     "output_type": "execute_result"
    }
   ],
   "source": [
    "from sklearn.tree import DecisionTreeClassifier\n",
    "#application du l'algorithme decisiontree \n",
    "decision = DecisionTreeClassifier()\n",
    "#training \n",
    "decision.fit(X_train, y_train)\n",
    "# la prediction fait sur X_test \n",
    "y_pred_decision = decision.predict(X_test)\n",
    "# accuracy de la prédiction \n",
    "score_decision = decision.score(X_test, y_test)\n",
    "#affichage de l'accuracy\n",
    "print(\"Accuracy = {:.2f}\".format(score_decision))\n",
    "# utiliser la cross validation et affichage de son accuracy\n",
    "cross_val_score(decision, X, y, cv=10, scoring='accuracy').mean()"
   ]
  },
  {
   "cell_type": "code",
   "execution_count": 17,
   "metadata": {},
   "outputs": [
    {
     "data": {
      "text/plain": [
       "['Models1/decision_tree.pkl']"
      ]
     },
     "execution_count": 17,
     "metadata": {},
     "output_type": "execute_result"
    }
   ],
   "source": [
    "# enregistrement du modèle pour l'exploiter après dans le site web\n",
    "file = \"Models1/decision_tree.pkl\"\n",
    "joblib.dump(decision, file)"
   ]
  },
  {
   "cell_type": "markdown",
   "metadata": {},
   "source": [
    "## Naive Bayes"
   ]
  },
  {
   "cell_type": "code",
   "execution_count": 18,
   "metadata": {},
   "outputs": [
    {
     "name": "stdout",
     "output_type": "stream",
     "text": [
      "Accuracy = 0.76\n"
     ]
    },
    {
     "data": {
      "text/plain": [
       "0.6955128205128205"
      ]
     },
     "execution_count": 18,
     "metadata": {},
     "output_type": "execute_result"
    }
   ],
   "source": [
    "from sklearn.naive_bayes import GaussianNB\n",
    "#application du l'algorithme naive bayes avec la précision de ses paramètres \n",
    "nb = GaussianNB()\n",
    "#training \n",
    "nb.fit(X_train, y_train)\n",
    "# la prediction fait sur X_test \n",
    "y_pred_nb = nb.predict(X_test)\n",
    "# accuracy de la prédiction \n",
    "score_nb = nb.score(X_test, y_test)\n",
    "#affichage de l'accuracy\n",
    "print(\"Accuracy = {:.2f}\".format(score_nb))\n",
    "# utiliser la cross validation et affichage de son accuracy\n",
    "cross_val_score(nb, X, y, cv=10, scoring='accuracy').mean()"
   ]
  },
  {
   "cell_type": "code",
   "execution_count": 19,
   "metadata": {},
   "outputs": [
    {
     "data": {
      "text/plain": [
       "['Models1/naive_bayes.pkl']"
      ]
     },
     "execution_count": 19,
     "metadata": {},
     "output_type": "execute_result"
    }
   ],
   "source": [
    "# enregistrement du modèle pour l'exploiter après dans le site web\n",
    "file = \"Models1/naive_bayes.pkl\"\n",
    "joblib.dump(nb, file)"
   ]
  },
  {
   "cell_type": "markdown",
   "metadata": {},
   "source": [
    "## Support Vector Machine"
   ]
  },
  {
   "cell_type": "code",
   "execution_count": 20,
   "metadata": {},
   "outputs": [],
   "source": [
    "from sklearn.svm import SVC\n",
    "#application du l'algorithme support vector machine avec la précision de ses paramètres \n",
    "sv = SVC(C= 100, gamma = 0.0001, kernel = 'rbf')"
   ]
  },
  {
   "cell_type": "code",
   "execution_count": 21,
   "metadata": {},
   "outputs": [
    {
     "data": {
      "text/plain": [
       "SVC(C=100, gamma=0.0001)"
      ]
     },
     "execution_count": 21,
     "metadata": {},
     "output_type": "execute_result"
    }
   ],
   "source": [
    "#training \n",
    "sv.fit(X_train, y_train)"
   ]
  },
  {
   "cell_type": "code",
   "execution_count": 22,
   "metadata": {},
   "outputs": [],
   "source": [
    "# la prediction fait sur X_test \n",
    "y_pred_svm = sv.predict(X_test)"
   ]
  },
  {
   "cell_type": "code",
   "execution_count": 23,
   "metadata": {},
   "outputs": [
    {
     "name": "stdout",
     "output_type": "stream",
     "text": [
      "Accuracy = 0.71\n"
     ]
    },
    {
     "data": {
      "text/plain": [
       "0.6957051282051283"
      ]
     },
     "execution_count": 23,
     "metadata": {},
     "output_type": "execute_result"
    }
   ],
   "source": [
    "# accuracy de la prédiction \n",
    "score_sv = sv.score(X_test, y_test)\n",
    "#affichage de l'accuracy\n",
    "print(\"Accuracy = {:.2f}\".format(score_sv))\n",
    "# utiliser la cross validation et affichage de son accuracy\n",
    "cross_val_score(sv, X, y, cv=10, scoring='accuracy').mean()"
   ]
  },
  {
   "cell_type": "code",
   "execution_count": 24,
   "metadata": {},
   "outputs": [
    {
     "data": {
      "text/plain": [
       "['Models1/svm.pkl']"
      ]
     },
     "execution_count": 24,
     "metadata": {},
     "output_type": "execute_result"
    }
   ],
   "source": [
    "# enregistrement du modèle pour l'exploiter après dans le site web\n",
    "file = \"Models1/svm.pkl\"\n",
    "joblib.dump(sv, file)"
   ]
  },
  {
   "cell_type": "markdown",
   "metadata": {},
   "source": [
    "# Models Evaluation"
   ]
  },
  {
   "cell_type": "code",
   "execution_count": 25,
   "metadata": {},
   "outputs": [
    {
     "data": {
      "text/html": [
       "<div>\n",
       "<style scoped>\n",
       "    .dataframe tbody tr th:only-of-type {\n",
       "        vertical-align: middle;\n",
       "    }\n",
       "\n",
       "    .dataframe tbody tr th {\n",
       "        vertical-align: top;\n",
       "    }\n",
       "\n",
       "    .dataframe thead th {\n",
       "        text-align: right;\n",
       "    }\n",
       "</style>\n",
       "<table border=\"1\" class=\"dataframe\">\n",
       "  <thead>\n",
       "    <tr style=\"text-align: right;\">\n",
       "      <th></th>\n",
       "      <th>Model</th>\n",
       "      <th>Score</th>\n",
       "    </tr>\n",
       "  </thead>\n",
       "  <tbody>\n",
       "    <tr>\n",
       "      <th>0</th>\n",
       "      <td>Logistic Regression</td>\n",
       "      <td>0.759494</td>\n",
       "    </tr>\n",
       "    <tr>\n",
       "      <th>1</th>\n",
       "      <td>Naive Bayes</td>\n",
       "      <td>0.759494</td>\n",
       "    </tr>\n",
       "    <tr>\n",
       "      <th>3</th>\n",
       "      <td>Random Forest</td>\n",
       "      <td>0.721519</td>\n",
       "    </tr>\n",
       "    <tr>\n",
       "      <th>5</th>\n",
       "      <td>Gradient Boosting</td>\n",
       "      <td>0.721519</td>\n",
       "    </tr>\n",
       "    <tr>\n",
       "      <th>4</th>\n",
       "      <td>Support Vector Machines</td>\n",
       "      <td>0.708861</td>\n",
       "    </tr>\n",
       "    <tr>\n",
       "      <th>6</th>\n",
       "      <td>K - Nearest Neighbors</td>\n",
       "      <td>0.683544</td>\n",
       "    </tr>\n",
       "    <tr>\n",
       "      <th>2</th>\n",
       "      <td>Decision Tree</td>\n",
       "      <td>0.594937</td>\n",
       "    </tr>\n",
       "  </tbody>\n",
       "</table>\n",
       "</div>"
      ],
      "text/plain": [
       "                     Model     Score\n",
       "0      Logistic Regression  0.759494\n",
       "1              Naive Bayes  0.759494\n",
       "3            Random Forest  0.721519\n",
       "5        Gradient Boosting  0.721519\n",
       "4  Support Vector Machines  0.708861\n",
       "6    K - Nearest Neighbors  0.683544\n",
       "2            Decision Tree  0.594937"
      ]
     },
     "execution_count": 25,
     "metadata": {},
     "output_type": "execute_result"
    }
   ],
   "source": [
    "## comparer la performance des différents modèles implémentés à l'aide de score de chaque modèle, et les trier\n",
    "models = pd.DataFrame({\n",
    "    'Model': ['Logistic Regression', 'Naive Bayes', 'Decision Tree', 'Random Forest', 'Support Vector Machines', 'Gradient Boosting',\n",
    "              'K - Nearest Neighbors'],\n",
    "    'Score': [score_logreg, score_nb , score_decision, score_forest, score_sv, score_gradient, score_knn]})\n",
    "models.sort_values(by='Score', ascending=False)"
   ]
  },
  {
   "cell_type": "markdown",
   "metadata": {},
   "source": [
    "# Hyperparameters Tuning"
   ]
  },
  {
   "cell_type": "markdown",
   "metadata": {},
   "source": [
    "**1) KNN**"
   ]
  },
  {
   "cell_type": "code",
   "execution_count": 26,
   "metadata": {},
   "outputs": [],
   "source": [
    "# on definit des valeurs pour les parametres qu'on a choisit\n",
    "k_range = list(range(1, 31))\n",
    "weight_options = ['uniform', 'distance']"
   ]
  },
  {
   "cell_type": "code",
   "execution_count": 27,
   "metadata": {},
   "outputs": [
    {
     "name": "stdout",
     "output_type": "stream",
     "text": [
      "{'n_neighbors': [1, 2, 3, 4, 5, 6, 7, 8, 9, 10, 11, 12, 13, 14, 15, 16, 17, 18, 19, 20, 21, 22, 23, 24, 25, 26, 27, 28, 29, 30], 'weights': ['uniform', 'distance']}\n"
     ]
    }
   ],
   "source": [
    "# on crée un grid de paramètres \n",
    "param_grid = dict(n_neighbors=k_range, weights=weight_options)\n",
    "print(param_grid)"
   ]
  },
  {
   "cell_type": "code",
   "execution_count": 28,
   "metadata": {},
   "outputs": [
    {
     "data": {
      "text/plain": [
       "GridSearchCV(cv=40,\n",
       "             estimator=KNeighborsClassifier(n_neighbors=18, weights='distance'),\n",
       "             param_grid={'n_neighbors': [1, 2, 3, 4, 5, 6, 7, 8, 9, 10, 11, 12,\n",
       "                                         13, 14, 15, 16, 17, 18, 19, 20, 21, 22,\n",
       "                                         23, 24, 25, 26, 27, 28, 29, 30],\n",
       "                         'weights': ['uniform', 'distance']},\n",
       "             scoring='accuracy')"
      ]
     },
     "execution_count": 28,
     "metadata": {},
     "output_type": "execute_result"
    }
   ],
   "source": [
    "# instantier le grid \n",
    "grid = GridSearchCV(knn, param_grid, cv=40, scoring='accuracy')\n",
    "grid.fit(X, y)"
   ]
  },
  {
   "cell_type": "code",
   "execution_count": 29,
   "metadata": {},
   "outputs": [
    {
     "data": {
      "text/html": [
       "<div>\n",
       "<style scoped>\n",
       "    .dataframe tbody tr th:only-of-type {\n",
       "        vertical-align: middle;\n",
       "    }\n",
       "\n",
       "    .dataframe tbody tr th {\n",
       "        vertical-align: top;\n",
       "    }\n",
       "\n",
       "    .dataframe thead th {\n",
       "        text-align: right;\n",
       "    }\n",
       "</style>\n",
       "<table border=\"1\" class=\"dataframe\">\n",
       "  <thead>\n",
       "    <tr style=\"text-align: right;\">\n",
       "      <th></th>\n",
       "      <th>mean_test_score</th>\n",
       "      <th>std_test_score</th>\n",
       "      <th>params</th>\n",
       "    </tr>\n",
       "  </thead>\n",
       "  <tbody>\n",
       "    <tr>\n",
       "      <th>0</th>\n",
       "      <td>0.611389</td>\n",
       "      <td>0.131527</td>\n",
       "      <td>{'n_neighbors': 1, 'weights': 'uniform'}</td>\n",
       "    </tr>\n",
       "    <tr>\n",
       "      <th>1</th>\n",
       "      <td>0.611389</td>\n",
       "      <td>0.131527</td>\n",
       "      <td>{'n_neighbors': 1, 'weights': 'distance'}</td>\n",
       "    </tr>\n",
       "    <tr>\n",
       "      <th>2</th>\n",
       "      <td>0.521389</td>\n",
       "      <td>0.150439</td>\n",
       "      <td>{'n_neighbors': 2, 'weights': 'uniform'}</td>\n",
       "    </tr>\n",
       "    <tr>\n",
       "      <th>3</th>\n",
       "      <td>0.584444</td>\n",
       "      <td>0.126389</td>\n",
       "      <td>{'n_neighbors': 2, 'weights': 'distance'}</td>\n",
       "    </tr>\n",
       "    <tr>\n",
       "      <th>4</th>\n",
       "      <td>0.648611</td>\n",
       "      <td>0.108886</td>\n",
       "      <td>{'n_neighbors': 3, 'weights': 'uniform'}</td>\n",
       "    </tr>\n",
       "    <tr>\n",
       "      <th>5</th>\n",
       "      <td>0.653611</td>\n",
       "      <td>0.106513</td>\n",
       "      <td>{'n_neighbors': 3, 'weights': 'distance'}</td>\n",
       "    </tr>\n",
       "    <tr>\n",
       "      <th>6</th>\n",
       "      <td>0.600000</td>\n",
       "      <td>0.121818</td>\n",
       "      <td>{'n_neighbors': 4, 'weights': 'uniform'}</td>\n",
       "    </tr>\n",
       "    <tr>\n",
       "      <th>7</th>\n",
       "      <td>0.640556</td>\n",
       "      <td>0.103445</td>\n",
       "      <td>{'n_neighbors': 4, 'weights': 'distance'}</td>\n",
       "    </tr>\n",
       "    <tr>\n",
       "      <th>8</th>\n",
       "      <td>0.660556</td>\n",
       "      <td>0.110357</td>\n",
       "      <td>{'n_neighbors': 5, 'weights': 'uniform'}</td>\n",
       "    </tr>\n",
       "    <tr>\n",
       "      <th>9</th>\n",
       "      <td>0.660556</td>\n",
       "      <td>0.110357</td>\n",
       "      <td>{'n_neighbors': 5, 'weights': 'distance'}</td>\n",
       "    </tr>\n",
       "    <tr>\n",
       "      <th>10</th>\n",
       "      <td>0.627778</td>\n",
       "      <td>0.133218</td>\n",
       "      <td>{'n_neighbors': 6, 'weights': 'uniform'}</td>\n",
       "    </tr>\n",
       "    <tr>\n",
       "      <th>11</th>\n",
       "      <td>0.661111</td>\n",
       "      <td>0.101744</td>\n",
       "      <td>{'n_neighbors': 6, 'weights': 'distance'}</td>\n",
       "    </tr>\n",
       "    <tr>\n",
       "      <th>12</th>\n",
       "      <td>0.650556</td>\n",
       "      <td>0.113609</td>\n",
       "      <td>{'n_neighbors': 7, 'weights': 'uniform'}</td>\n",
       "    </tr>\n",
       "    <tr>\n",
       "      <th>13</th>\n",
       "      <td>0.658056</td>\n",
       "      <td>0.111097</td>\n",
       "      <td>{'n_neighbors': 7, 'weights': 'distance'}</td>\n",
       "    </tr>\n",
       "    <tr>\n",
       "      <th>14</th>\n",
       "      <td>0.635278</td>\n",
       "      <td>0.135124</td>\n",
       "      <td>{'n_neighbors': 8, 'weights': 'uniform'}</td>\n",
       "    </tr>\n",
       "    <tr>\n",
       "      <th>15</th>\n",
       "      <td>0.647778</td>\n",
       "      <td>0.114023</td>\n",
       "      <td>{'n_neighbors': 8, 'weights': 'distance'}</td>\n",
       "    </tr>\n",
       "    <tr>\n",
       "      <th>16</th>\n",
       "      <td>0.655556</td>\n",
       "      <td>0.123403</td>\n",
       "      <td>{'n_neighbors': 9, 'weights': 'uniform'}</td>\n",
       "    </tr>\n",
       "    <tr>\n",
       "      <th>17</th>\n",
       "      <td>0.650556</td>\n",
       "      <td>0.123527</td>\n",
       "      <td>{'n_neighbors': 9, 'weights': 'distance'}</td>\n",
       "    </tr>\n",
       "    <tr>\n",
       "      <th>18</th>\n",
       "      <td>0.653056</td>\n",
       "      <td>0.121931</td>\n",
       "      <td>{'n_neighbors': 10, 'weights': 'uniform'}</td>\n",
       "    </tr>\n",
       "    <tr>\n",
       "      <th>19</th>\n",
       "      <td>0.653056</td>\n",
       "      <td>0.101394</td>\n",
       "      <td>{'n_neighbors': 10, 'weights': 'distance'}</td>\n",
       "    </tr>\n",
       "    <tr>\n",
       "      <th>20</th>\n",
       "      <td>0.637778</td>\n",
       "      <td>0.103632</td>\n",
       "      <td>{'n_neighbors': 11, 'weights': 'uniform'}</td>\n",
       "    </tr>\n",
       "    <tr>\n",
       "      <th>21</th>\n",
       "      <td>0.632778</td>\n",
       "      <td>0.102919</td>\n",
       "      <td>{'n_neighbors': 11, 'weights': 'distance'}</td>\n",
       "    </tr>\n",
       "    <tr>\n",
       "      <th>22</th>\n",
       "      <td>0.645278</td>\n",
       "      <td>0.111205</td>\n",
       "      <td>{'n_neighbors': 12, 'weights': 'uniform'}</td>\n",
       "    </tr>\n",
       "    <tr>\n",
       "      <th>23</th>\n",
       "      <td>0.647778</td>\n",
       "      <td>0.109014</td>\n",
       "      <td>{'n_neighbors': 12, 'weights': 'distance'}</td>\n",
       "    </tr>\n",
       "    <tr>\n",
       "      <th>24</th>\n",
       "      <td>0.647778</td>\n",
       "      <td>0.095652</td>\n",
       "      <td>{'n_neighbors': 13, 'weights': 'uniform'}</td>\n",
       "    </tr>\n",
       "    <tr>\n",
       "      <th>25</th>\n",
       "      <td>0.650278</td>\n",
       "      <td>0.095678</td>\n",
       "      <td>{'n_neighbors': 13, 'weights': 'distance'}</td>\n",
       "    </tr>\n",
       "    <tr>\n",
       "      <th>26</th>\n",
       "      <td>0.639722</td>\n",
       "      <td>0.129288</td>\n",
       "      <td>{'n_neighbors': 14, 'weights': 'uniform'}</td>\n",
       "    </tr>\n",
       "    <tr>\n",
       "      <th>27</th>\n",
       "      <td>0.645000</td>\n",
       "      <td>0.097276</td>\n",
       "      <td>{'n_neighbors': 14, 'weights': 'distance'}</td>\n",
       "    </tr>\n",
       "    <tr>\n",
       "      <th>28</th>\n",
       "      <td>0.658056</td>\n",
       "      <td>0.104836</td>\n",
       "      <td>{'n_neighbors': 15, 'weights': 'uniform'}</td>\n",
       "    </tr>\n",
       "    <tr>\n",
       "      <th>29</th>\n",
       "      <td>0.665556</td>\n",
       "      <td>0.108690</td>\n",
       "      <td>{'n_neighbors': 15, 'weights': 'distance'}</td>\n",
       "    </tr>\n",
       "    <tr>\n",
       "      <th>30</th>\n",
       "      <td>0.648611</td>\n",
       "      <td>0.131179</td>\n",
       "      <td>{'n_neighbors': 16, 'weights': 'uniform'}</td>\n",
       "    </tr>\n",
       "    <tr>\n",
       "      <th>31</th>\n",
       "      <td>0.660833</td>\n",
       "      <td>0.098444</td>\n",
       "      <td>{'n_neighbors': 16, 'weights': 'distance'}</td>\n",
       "    </tr>\n",
       "    <tr>\n",
       "      <th>32</th>\n",
       "      <td>0.655278</td>\n",
       "      <td>0.104216</td>\n",
       "      <td>{'n_neighbors': 17, 'weights': 'uniform'}</td>\n",
       "    </tr>\n",
       "    <tr>\n",
       "      <th>33</th>\n",
       "      <td>0.655278</td>\n",
       "      <td>0.111180</td>\n",
       "      <td>{'n_neighbors': 17, 'weights': 'distance'}</td>\n",
       "    </tr>\n",
       "    <tr>\n",
       "      <th>34</th>\n",
       "      <td>0.673056</td>\n",
       "      <td>0.119409</td>\n",
       "      <td>{'n_neighbors': 18, 'weights': 'uniform'}</td>\n",
       "    </tr>\n",
       "    <tr>\n",
       "      <th>35</th>\n",
       "      <td>0.670556</td>\n",
       "      <td>0.106619</td>\n",
       "      <td>{'n_neighbors': 18, 'weights': 'distance'}</td>\n",
       "    </tr>\n",
       "    <tr>\n",
       "      <th>36</th>\n",
       "      <td>0.655000</td>\n",
       "      <td>0.105261</td>\n",
       "      <td>{'n_neighbors': 19, 'weights': 'uniform'}</td>\n",
       "    </tr>\n",
       "    <tr>\n",
       "      <th>37</th>\n",
       "      <td>0.660278</td>\n",
       "      <td>0.106223</td>\n",
       "      <td>{'n_neighbors': 19, 'weights': 'distance'}</td>\n",
       "    </tr>\n",
       "    <tr>\n",
       "      <th>38</th>\n",
       "      <td>0.658056</td>\n",
       "      <td>0.103563</td>\n",
       "      <td>{'n_neighbors': 20, 'weights': 'uniform'}</td>\n",
       "    </tr>\n",
       "    <tr>\n",
       "      <th>39</th>\n",
       "      <td>0.667778</td>\n",
       "      <td>0.100364</td>\n",
       "      <td>{'n_neighbors': 20, 'weights': 'distance'}</td>\n",
       "    </tr>\n",
       "    <tr>\n",
       "      <th>40</th>\n",
       "      <td>0.655278</td>\n",
       "      <td>0.081403</td>\n",
       "      <td>{'n_neighbors': 21, 'weights': 'uniform'}</td>\n",
       "    </tr>\n",
       "    <tr>\n",
       "      <th>41</th>\n",
       "      <td>0.650278</td>\n",
       "      <td>0.081574</td>\n",
       "      <td>{'n_neighbors': 21, 'weights': 'distance'}</td>\n",
       "    </tr>\n",
       "    <tr>\n",
       "      <th>42</th>\n",
       "      <td>0.645000</td>\n",
       "      <td>0.094671</td>\n",
       "      <td>{'n_neighbors': 22, 'weights': 'uniform'}</td>\n",
       "    </tr>\n",
       "    <tr>\n",
       "      <th>43</th>\n",
       "      <td>0.650000</td>\n",
       "      <td>0.086531</td>\n",
       "      <td>{'n_neighbors': 22, 'weights': 'distance'}</td>\n",
       "    </tr>\n",
       "    <tr>\n",
       "      <th>44</th>\n",
       "      <td>0.663056</td>\n",
       "      <td>0.075946</td>\n",
       "      <td>{'n_neighbors': 23, 'weights': 'uniform'}</td>\n",
       "    </tr>\n",
       "    <tr>\n",
       "      <th>45</th>\n",
       "      <td>0.660556</td>\n",
       "      <td>0.079542</td>\n",
       "      <td>{'n_neighbors': 23, 'weights': 'distance'}</td>\n",
       "    </tr>\n",
       "    <tr>\n",
       "      <th>46</th>\n",
       "      <td>0.665556</td>\n",
       "      <td>0.093881</td>\n",
       "      <td>{'n_neighbors': 24, 'weights': 'uniform'}</td>\n",
       "    </tr>\n",
       "    <tr>\n",
       "      <th>47</th>\n",
       "      <td>0.662778</td>\n",
       "      <td>0.094821</td>\n",
       "      <td>{'n_neighbors': 24, 'weights': 'distance'}</td>\n",
       "    </tr>\n",
       "    <tr>\n",
       "      <th>48</th>\n",
       "      <td>0.655556</td>\n",
       "      <td>0.080046</td>\n",
       "      <td>{'n_neighbors': 25, 'weights': 'uniform'}</td>\n",
       "    </tr>\n",
       "    <tr>\n",
       "      <th>49</th>\n",
       "      <td>0.645556</td>\n",
       "      <td>0.080116</td>\n",
       "      <td>{'n_neighbors': 25, 'weights': 'distance'}</td>\n",
       "    </tr>\n",
       "    <tr>\n",
       "      <th>50</th>\n",
       "      <td>0.663333</td>\n",
       "      <td>0.090342</td>\n",
       "      <td>{'n_neighbors': 26, 'weights': 'uniform'}</td>\n",
       "    </tr>\n",
       "    <tr>\n",
       "      <th>51</th>\n",
       "      <td>0.653056</td>\n",
       "      <td>0.073681</td>\n",
       "      <td>{'n_neighbors': 26, 'weights': 'distance'}</td>\n",
       "    </tr>\n",
       "    <tr>\n",
       "      <th>52</th>\n",
       "      <td>0.660833</td>\n",
       "      <td>0.084290</td>\n",
       "      <td>{'n_neighbors': 27, 'weights': 'uniform'}</td>\n",
       "    </tr>\n",
       "    <tr>\n",
       "      <th>53</th>\n",
       "      <td>0.658611</td>\n",
       "      <td>0.083960</td>\n",
       "      <td>{'n_neighbors': 27, 'weights': 'distance'}</td>\n",
       "    </tr>\n",
       "    <tr>\n",
       "      <th>54</th>\n",
       "      <td>0.645556</td>\n",
       "      <td>0.086131</td>\n",
       "      <td>{'n_neighbors': 28, 'weights': 'uniform'}</td>\n",
       "    </tr>\n",
       "    <tr>\n",
       "      <th>55</th>\n",
       "      <td>0.642778</td>\n",
       "      <td>0.090012</td>\n",
       "      <td>{'n_neighbors': 28, 'weights': 'distance'}</td>\n",
       "    </tr>\n",
       "    <tr>\n",
       "      <th>56</th>\n",
       "      <td>0.648333</td>\n",
       "      <td>0.078863</td>\n",
       "      <td>{'n_neighbors': 29, 'weights': 'uniform'}</td>\n",
       "    </tr>\n",
       "    <tr>\n",
       "      <th>57</th>\n",
       "      <td>0.645833</td>\n",
       "      <td>0.084881</td>\n",
       "      <td>{'n_neighbors': 29, 'weights': 'distance'}</td>\n",
       "    </tr>\n",
       "    <tr>\n",
       "      <th>58</th>\n",
       "      <td>0.638056</td>\n",
       "      <td>0.091080</td>\n",
       "      <td>{'n_neighbors': 30, 'weights': 'uniform'}</td>\n",
       "    </tr>\n",
       "    <tr>\n",
       "      <th>59</th>\n",
       "      <td>0.635278</td>\n",
       "      <td>0.083292</td>\n",
       "      <td>{'n_neighbors': 30, 'weights': 'distance'}</td>\n",
       "    </tr>\n",
       "  </tbody>\n",
       "</table>\n",
       "</div>"
      ],
      "text/plain": [
       "    mean_test_score  std_test_score  \\\n",
       "0          0.611389        0.131527   \n",
       "1          0.611389        0.131527   \n",
       "2          0.521389        0.150439   \n",
       "3          0.584444        0.126389   \n",
       "4          0.648611        0.108886   \n",
       "5          0.653611        0.106513   \n",
       "6          0.600000        0.121818   \n",
       "7          0.640556        0.103445   \n",
       "8          0.660556        0.110357   \n",
       "9          0.660556        0.110357   \n",
       "10         0.627778        0.133218   \n",
       "11         0.661111        0.101744   \n",
       "12         0.650556        0.113609   \n",
       "13         0.658056        0.111097   \n",
       "14         0.635278        0.135124   \n",
       "15         0.647778        0.114023   \n",
       "16         0.655556        0.123403   \n",
       "17         0.650556        0.123527   \n",
       "18         0.653056        0.121931   \n",
       "19         0.653056        0.101394   \n",
       "20         0.637778        0.103632   \n",
       "21         0.632778        0.102919   \n",
       "22         0.645278        0.111205   \n",
       "23         0.647778        0.109014   \n",
       "24         0.647778        0.095652   \n",
       "25         0.650278        0.095678   \n",
       "26         0.639722        0.129288   \n",
       "27         0.645000        0.097276   \n",
       "28         0.658056        0.104836   \n",
       "29         0.665556        0.108690   \n",
       "30         0.648611        0.131179   \n",
       "31         0.660833        0.098444   \n",
       "32         0.655278        0.104216   \n",
       "33         0.655278        0.111180   \n",
       "34         0.673056        0.119409   \n",
       "35         0.670556        0.106619   \n",
       "36         0.655000        0.105261   \n",
       "37         0.660278        0.106223   \n",
       "38         0.658056        0.103563   \n",
       "39         0.667778        0.100364   \n",
       "40         0.655278        0.081403   \n",
       "41         0.650278        0.081574   \n",
       "42         0.645000        0.094671   \n",
       "43         0.650000        0.086531   \n",
       "44         0.663056        0.075946   \n",
       "45         0.660556        0.079542   \n",
       "46         0.665556        0.093881   \n",
       "47         0.662778        0.094821   \n",
       "48         0.655556        0.080046   \n",
       "49         0.645556        0.080116   \n",
       "50         0.663333        0.090342   \n",
       "51         0.653056        0.073681   \n",
       "52         0.660833        0.084290   \n",
       "53         0.658611        0.083960   \n",
       "54         0.645556        0.086131   \n",
       "55         0.642778        0.090012   \n",
       "56         0.648333        0.078863   \n",
       "57         0.645833        0.084881   \n",
       "58         0.638056        0.091080   \n",
       "59         0.635278        0.083292   \n",
       "\n",
       "                                        params  \n",
       "0     {'n_neighbors': 1, 'weights': 'uniform'}  \n",
       "1    {'n_neighbors': 1, 'weights': 'distance'}  \n",
       "2     {'n_neighbors': 2, 'weights': 'uniform'}  \n",
       "3    {'n_neighbors': 2, 'weights': 'distance'}  \n",
       "4     {'n_neighbors': 3, 'weights': 'uniform'}  \n",
       "5    {'n_neighbors': 3, 'weights': 'distance'}  \n",
       "6     {'n_neighbors': 4, 'weights': 'uniform'}  \n",
       "7    {'n_neighbors': 4, 'weights': 'distance'}  \n",
       "8     {'n_neighbors': 5, 'weights': 'uniform'}  \n",
       "9    {'n_neighbors': 5, 'weights': 'distance'}  \n",
       "10    {'n_neighbors': 6, 'weights': 'uniform'}  \n",
       "11   {'n_neighbors': 6, 'weights': 'distance'}  \n",
       "12    {'n_neighbors': 7, 'weights': 'uniform'}  \n",
       "13   {'n_neighbors': 7, 'weights': 'distance'}  \n",
       "14    {'n_neighbors': 8, 'weights': 'uniform'}  \n",
       "15   {'n_neighbors': 8, 'weights': 'distance'}  \n",
       "16    {'n_neighbors': 9, 'weights': 'uniform'}  \n",
       "17   {'n_neighbors': 9, 'weights': 'distance'}  \n",
       "18   {'n_neighbors': 10, 'weights': 'uniform'}  \n",
       "19  {'n_neighbors': 10, 'weights': 'distance'}  \n",
       "20   {'n_neighbors': 11, 'weights': 'uniform'}  \n",
       "21  {'n_neighbors': 11, 'weights': 'distance'}  \n",
       "22   {'n_neighbors': 12, 'weights': 'uniform'}  \n",
       "23  {'n_neighbors': 12, 'weights': 'distance'}  \n",
       "24   {'n_neighbors': 13, 'weights': 'uniform'}  \n",
       "25  {'n_neighbors': 13, 'weights': 'distance'}  \n",
       "26   {'n_neighbors': 14, 'weights': 'uniform'}  \n",
       "27  {'n_neighbors': 14, 'weights': 'distance'}  \n",
       "28   {'n_neighbors': 15, 'weights': 'uniform'}  \n",
       "29  {'n_neighbors': 15, 'weights': 'distance'}  \n",
       "30   {'n_neighbors': 16, 'weights': 'uniform'}  \n",
       "31  {'n_neighbors': 16, 'weights': 'distance'}  \n",
       "32   {'n_neighbors': 17, 'weights': 'uniform'}  \n",
       "33  {'n_neighbors': 17, 'weights': 'distance'}  \n",
       "34   {'n_neighbors': 18, 'weights': 'uniform'}  \n",
       "35  {'n_neighbors': 18, 'weights': 'distance'}  \n",
       "36   {'n_neighbors': 19, 'weights': 'uniform'}  \n",
       "37  {'n_neighbors': 19, 'weights': 'distance'}  \n",
       "38   {'n_neighbors': 20, 'weights': 'uniform'}  \n",
       "39  {'n_neighbors': 20, 'weights': 'distance'}  \n",
       "40   {'n_neighbors': 21, 'weights': 'uniform'}  \n",
       "41  {'n_neighbors': 21, 'weights': 'distance'}  \n",
       "42   {'n_neighbors': 22, 'weights': 'uniform'}  \n",
       "43  {'n_neighbors': 22, 'weights': 'distance'}  \n",
       "44   {'n_neighbors': 23, 'weights': 'uniform'}  \n",
       "45  {'n_neighbors': 23, 'weights': 'distance'}  \n",
       "46   {'n_neighbors': 24, 'weights': 'uniform'}  \n",
       "47  {'n_neighbors': 24, 'weights': 'distance'}  \n",
       "48   {'n_neighbors': 25, 'weights': 'uniform'}  \n",
       "49  {'n_neighbors': 25, 'weights': 'distance'}  \n",
       "50   {'n_neighbors': 26, 'weights': 'uniform'}  \n",
       "51  {'n_neighbors': 26, 'weights': 'distance'}  \n",
       "52   {'n_neighbors': 27, 'weights': 'uniform'}  \n",
       "53  {'n_neighbors': 27, 'weights': 'distance'}  \n",
       "54   {'n_neighbors': 28, 'weights': 'uniform'}  \n",
       "55  {'n_neighbors': 28, 'weights': 'distance'}  \n",
       "56   {'n_neighbors': 29, 'weights': 'uniform'}  \n",
       "57  {'n_neighbors': 29, 'weights': 'distance'}  \n",
       "58   {'n_neighbors': 30, 'weights': 'uniform'}  \n",
       "59  {'n_neighbors': 30, 'weights': 'distance'}  "
      ]
     },
     "execution_count": 29,
     "metadata": {},
     "output_type": "execute_result"
    }
   ],
   "source": [
    "# afficher le score de l'algorithme pour chaque combinaison de paramètres \n",
    "pd.DataFrame(grid.cv_results_)[['mean_test_score', 'std_test_score', 'params']]"
   ]
  },
  {
   "cell_type": "markdown",
   "metadata": {},
   "source": [
    "**2) Logistic Regression**"
   ]
  },
  {
   "cell_type": "code",
   "execution_count": 30,
   "metadata": {},
   "outputs": [
    {
     "name": "stdout",
     "output_type": "stream",
     "text": [
      "{'solver': ['newton-cg', 'liblinear'], 'C': [100, 10, 1.0, 0.1, 0.01]}\n"
     ]
    },
    {
     "data": {
      "text/html": [
       "<div>\n",
       "<style scoped>\n",
       "    .dataframe tbody tr th:only-of-type {\n",
       "        vertical-align: middle;\n",
       "    }\n",
       "\n",
       "    .dataframe tbody tr th {\n",
       "        vertical-align: top;\n",
       "    }\n",
       "\n",
       "    .dataframe thead th {\n",
       "        text-align: right;\n",
       "    }\n",
       "</style>\n",
       "<table border=\"1\" class=\"dataframe\">\n",
       "  <thead>\n",
       "    <tr style=\"text-align: right;\">\n",
       "      <th></th>\n",
       "      <th>mean_test_score</th>\n",
       "      <th>std_test_score</th>\n",
       "      <th>params</th>\n",
       "    </tr>\n",
       "  </thead>\n",
       "  <tbody>\n",
       "    <tr>\n",
       "      <th>0</th>\n",
       "      <td>0.708526</td>\n",
       "      <td>0.048992</td>\n",
       "      <td>{'C': 100, 'solver': 'newton-cg'}</td>\n",
       "    </tr>\n",
       "    <tr>\n",
       "      <th>1</th>\n",
       "      <td>0.708526</td>\n",
       "      <td>0.048992</td>\n",
       "      <td>{'C': 100, 'solver': 'liblinear'}</td>\n",
       "    </tr>\n",
       "    <tr>\n",
       "      <th>2</th>\n",
       "      <td>0.708526</td>\n",
       "      <td>0.048992</td>\n",
       "      <td>{'C': 10, 'solver': 'newton-cg'}</td>\n",
       "    </tr>\n",
       "    <tr>\n",
       "      <th>3</th>\n",
       "      <td>0.708526</td>\n",
       "      <td>0.048992</td>\n",
       "      <td>{'C': 10, 'solver': 'liblinear'}</td>\n",
       "    </tr>\n",
       "    <tr>\n",
       "      <th>4</th>\n",
       "      <td>0.706026</td>\n",
       "      <td>0.049991</td>\n",
       "      <td>{'C': 1.0, 'solver': 'newton-cg'}</td>\n",
       "    </tr>\n",
       "    <tr>\n",
       "      <th>5</th>\n",
       "      <td>0.706026</td>\n",
       "      <td>0.049991</td>\n",
       "      <td>{'C': 1.0, 'solver': 'liblinear'}</td>\n",
       "    </tr>\n",
       "    <tr>\n",
       "      <th>6</th>\n",
       "      <td>0.696090</td>\n",
       "      <td>0.064152</td>\n",
       "      <td>{'C': 0.1, 'solver': 'newton-cg'}</td>\n",
       "    </tr>\n",
       "    <tr>\n",
       "      <th>7</th>\n",
       "      <td>0.693526</td>\n",
       "      <td>0.071288</td>\n",
       "      <td>{'C': 0.1, 'solver': 'liblinear'}</td>\n",
       "    </tr>\n",
       "    <tr>\n",
       "      <th>8</th>\n",
       "      <td>0.688333</td>\n",
       "      <td>0.051980</td>\n",
       "      <td>{'C': 0.01, 'solver': 'newton-cg'}</td>\n",
       "    </tr>\n",
       "    <tr>\n",
       "      <th>9</th>\n",
       "      <td>0.688269</td>\n",
       "      <td>0.052188</td>\n",
       "      <td>{'C': 0.01, 'solver': 'liblinear'}</td>\n",
       "    </tr>\n",
       "  </tbody>\n",
       "</table>\n",
       "</div>"
      ],
      "text/plain": [
       "   mean_test_score  std_test_score                              params\n",
       "0         0.708526        0.048992   {'C': 100, 'solver': 'newton-cg'}\n",
       "1         0.708526        0.048992   {'C': 100, 'solver': 'liblinear'}\n",
       "2         0.708526        0.048992    {'C': 10, 'solver': 'newton-cg'}\n",
       "3         0.708526        0.048992    {'C': 10, 'solver': 'liblinear'}\n",
       "4         0.706026        0.049991   {'C': 1.0, 'solver': 'newton-cg'}\n",
       "5         0.706026        0.049991   {'C': 1.0, 'solver': 'liblinear'}\n",
       "6         0.696090        0.064152   {'C': 0.1, 'solver': 'newton-cg'}\n",
       "7         0.693526        0.071288   {'C': 0.1, 'solver': 'liblinear'}\n",
       "8         0.688333        0.051980  {'C': 0.01, 'solver': 'newton-cg'}\n",
       "9         0.688269        0.052188  {'C': 0.01, 'solver': 'liblinear'}"
      ]
     },
     "execution_count": 30,
     "metadata": {},
     "output_type": "execute_result"
    }
   ],
   "source": [
    "# on definit des valeurs pour les parametres qu'on a choisit\n",
    "solvers = ['newton-cg', 'liblinear']\n",
    "c_values = [100, 10, 1.0, 0.1, 0.01]\n",
    "# on crée un grid de paramètres ( combinaison entre ces valeurs de paramètres)\n",
    "param_grids = dict(solver=solvers,C=c_values)\n",
    "print(param_grids)\n",
    "#instantier le grid\n",
    "grids = GridSearchCV(logreg, param_grids, cv=10, scoring='accuracy')\n",
    "grids.fit(X, y)\n",
    "# afficher le score de l'algorithme pour chaque combinaison de paramètres \n",
    "pd.DataFrame(grids.cv_results_)[['mean_test_score', 'std_test_score', 'params']]"
   ]
  },
  {
   "cell_type": "markdown",
   "metadata": {},
   "source": [
    "**3) Random Forest**"
   ]
  },
  {
   "cell_type": "code",
   "execution_count": 31,
   "metadata": {},
   "outputs": [
    {
     "name": "stdout",
     "output_type": "stream",
     "text": [
      "{'n_estimators': [2, 5, 10, 20]}\n"
     ]
    },
    {
     "data": {
      "text/html": [
       "<div>\n",
       "<style scoped>\n",
       "    .dataframe tbody tr th:only-of-type {\n",
       "        vertical-align: middle;\n",
       "    }\n",
       "\n",
       "    .dataframe tbody tr th {\n",
       "        vertical-align: top;\n",
       "    }\n",
       "\n",
       "    .dataframe thead th {\n",
       "        text-align: right;\n",
       "    }\n",
       "</style>\n",
       "<table border=\"1\" class=\"dataframe\">\n",
       "  <thead>\n",
       "    <tr style=\"text-align: right;\">\n",
       "      <th></th>\n",
       "      <th>mean_test_score</th>\n",
       "      <th>std_test_score</th>\n",
       "      <th>params</th>\n",
       "    </tr>\n",
       "  </thead>\n",
       "  <tbody>\n",
       "    <tr>\n",
       "      <th>0</th>\n",
       "      <td>0.556923</td>\n",
       "      <td>0.059973</td>\n",
       "      <td>{'n_estimators': 2}</td>\n",
       "    </tr>\n",
       "    <tr>\n",
       "      <th>1</th>\n",
       "      <td>0.607051</td>\n",
       "      <td>0.093483</td>\n",
       "      <td>{'n_estimators': 5}</td>\n",
       "    </tr>\n",
       "    <tr>\n",
       "      <th>2</th>\n",
       "      <td>0.639744</td>\n",
       "      <td>0.080574</td>\n",
       "      <td>{'n_estimators': 10}</td>\n",
       "    </tr>\n",
       "    <tr>\n",
       "      <th>3</th>\n",
       "      <td>0.682821</td>\n",
       "      <td>0.090801</td>\n",
       "      <td>{'n_estimators': 20}</td>\n",
       "    </tr>\n",
       "  </tbody>\n",
       "</table>\n",
       "</div>"
      ],
      "text/plain": [
       "   mean_test_score  std_test_score                params\n",
       "0         0.556923        0.059973   {'n_estimators': 2}\n",
       "1         0.607051        0.093483   {'n_estimators': 5}\n",
       "2         0.639744        0.080574  {'n_estimators': 10}\n",
       "3         0.682821        0.090801  {'n_estimators': 20}"
      ]
     },
     "execution_count": 31,
     "metadata": {},
     "output_type": "execute_result"
    }
   ],
   "source": [
    "# fixer un nombre de valeur pour le paramètre n_estimators \n",
    "estimators=[2,5,10,20]\n",
    "param_grids = dict(n_estimators=estimators)\n",
    "print(param_grids)\n",
    "#instantier le grid\n",
    "grids = GridSearchCV(forest, param_grids, cv=10, scoring='accuracy')\n",
    "grids.fit(X, y)\n",
    "# afficher le score de l'algorithme pour chaque valeur de paramètre \n",
    "pd.DataFrame(grids.cv_results_)[['mean_test_score', 'std_test_score', 'params']]"
   ]
  },
  {
   "cell_type": "markdown",
   "metadata": {},
   "source": [
    "**4) SVM**"
   ]
  },
  {
   "cell_type": "code",
   "execution_count": null,
   "metadata": {},
   "outputs": [],
   "source": [
    "## fixer un nombre de valeur pour les paramètres qu'on a choisit\n",
    "Cs =  [1, 10, 100, 1000]  \n",
    "kernels= ['linear','rbf']\n",
    "gammas= [0.001, 0.0001]\n",
    "# creer un grid pour les paramètres \n",
    "param_grids = dict(C=Cs,kernel=kernels,gamma=gammas)\n",
    "print(param_grids)\n",
    "#instantier le grid\n",
    "grids = GridSearchCV(sv, param_grids, cv=10, scoring='accuracy')\n",
    "grids.fit(X, y)\n",
    "# afficher le score de l'algorithme pour chaque combinaison de paramètres \n",
    "pd.DataFrame(grids.cv_results_)[['mean_test_score', 'std_test_score', 'params']]\n"
   ]
  },
  {
   "cell_type": "markdown",
   "metadata": {},
   "source": [
    "**5) Gradient booster**"
   ]
  },
  {
   "cell_type": "code",
   "execution_count": null,
   "metadata": {},
   "outputs": [
    {
     "name": "stdout",
     "output_type": "stream",
     "text": [
      "{'learning_rate': [0.01, 0.025, 0.05, 0.075, 0.1, 0.15, 0.2], 'max_depth': [3, 5, 8]}\n"
     ]
    }
   ],
   "source": [
    "# # fixer un nombre de valeur pour les paramètres qu'on a choisit\n",
    "learning_rate = [0.01, 0.025, 0.05, 0.075, 0.1, 0.15, 0.2]\n",
    "max_depth = [3,5,8]\n",
    "# creer un grid pour les paramètres \n",
    "param_grids = dict(learning_rate=learning_rate,max_depth=max_depth)\n",
    "print(param_grids)\n",
    "#instantier le grid\n",
    "grids = GridSearchCV(gradient, param_grids, cv=10, scoring='accuracy')\n",
    "grids.fit(X, y)\n",
    "# afficher le score de l'algorithme pour chaque combinaison de paramètres \n",
    "pd.DataFrame(grids.cv_results_)[['mean_test_score', 'std_test_score', 'params']]"
   ]
  },
  {
   "cell_type": "markdown",
   "metadata": {},
   "source": [
    "## Confusion Matrix"
   ]
  },
  {
   "cell_type": "markdown",
   "metadata": {},
   "source": [
    "Chaque colonne du tableau contient une classe prédite par l’algorithme et les lignes des classes réelles. \n",
    "On classe les résultats en 4 catégories : \n",
    "**True Positive (11)** : la prédiction et la valeur réelle sont positives. \n",
    "**True Negative (10)**: la prédiction et la valeur réelle sont négatives. \n",
    "**False Positive (01)** : la prédiction est positive alors que la valeur réelle est négative. \n",
    "**False Negative (00)** : la prédiction est négative alors que la valeur réelle est négative. "
   ]
  },
  {
   "cell_type": "markdown",
   "metadata": {},
   "source": [
    "**1) Logistic Regression**"
   ]
  },
  {
   "cell_type": "code",
   "execution_count": 34,
   "metadata": {},
   "outputs": [
    {
     "data": {
      "image/png": "[encoded data removed]",
      "text/plain": [
       "<Figure size 432x288 with 2 Axes>"
      ]
     },
     "metadata": {
      "needs_background": "light"
     },
     "output_type": "display_data"
    }
   ],
   "source": [
    "plot_confusion_matrix(logreg, X_test, y_test)\n",
    "plt.show() "
   ]
  },
  {
   "cell_type": "markdown",
   "metadata": {},
   "source": [
    "**2) Decision Tree**"
   ]
  },
  {
   "cell_type": "code",
   "execution_count": 35,
   "metadata": {},
   "outputs": [
    {
     "data": {
      "text/plain": [
       "<sklearn.metrics._plot.confusion_matrix.ConfusionMatrixDisplay at 0x29d226e9400>"
      ]
     },
     "execution_count": 35,
     "metadata": {},
     "output_type": "execute_result"
    },
    {
     "data": {
      "image/png": "[encoded data removed]",
      "text/plain": [
       "<Figure size 432x288 with 2 Axes>"
      ]
     },
     "metadata": {
      "needs_background": "light"
     },
     "output_type": "display_data"
    }
   ],
   "source": [
    "plot_confusion_matrix(decision, X_test, y_test)"
   ]
  },
  {
   "cell_type": "markdown",
   "metadata": {},
   "source": [
    "**3) Support Vector Machine**"
   ]
  },
  {
   "cell_type": "code",
   "execution_count": 36,
   "metadata": {},
   "outputs": [
    {
     "data": {
      "text/plain": [
       "<sklearn.metrics._plot.confusion_matrix.ConfusionMatrixDisplay at 0x29d226d6220>"
      ]
     },
     "execution_count": 36,
     "metadata": {},
     "output_type": "execute_result"
    },
    {
     "data": {
      "image/png": "[encoded data removed]",
      "text/plain": [
       "<Figure size 432x288 with 2 Axes>"
      ]
     },
     "metadata": {
      "needs_background": "light"
     },
     "output_type": "display_data"
    }
   ],
   "source": [
    "plot_confusion_matrix(sv, X_test, y_test)"
   ]
  },
  {
   "cell_type": "markdown",
   "metadata": {},
   "source": [
    "**4) Random Forest**"
   ]
  },
  {
   "cell_type": "code",
   "execution_count": 37,
   "metadata": {},
   "outputs": [
    {
     "data": {
      "text/plain": [
       "<sklearn.metrics._plot.confusion_matrix.ConfusionMatrixDisplay at 0x29d2270cf10>"
      ]
     },
     "execution_count": 37,
     "metadata": {},
     "output_type": "execute_result"
    },
    {
     "data": {
      "image/png": "[encoded data removed]",
      "text/plain": [
       "<Figure size 432x288 with 2 Axes>"
      ]
     },
     "metadata": {
      "needs_background": "light"
     },
     "output_type": "display_data"
    }
   ],
   "source": [
    "plot_confusion_matrix(forest, X_test, y_test)"
   ]
  },
  {
   "cell_type": "markdown",
   "metadata": {},
   "source": [
    "**5) Gradient Boosting Classifier**"
   ]
  },
  {
   "cell_type": "code",
   "execution_count": 38,
   "metadata": {},
   "outputs": [
    {
     "data": {
      "text/plain": [
       "<sklearn.metrics._plot.confusion_matrix.ConfusionMatrixDisplay at 0x29d229ec0a0>"
      ]
     },
     "execution_count": 38,
     "metadata": {},
     "output_type": "execute_result"
    },
    {
     "data": {
      "image/png": "[encoded data removed]",
      "text/plain": [
       "<Figure size 432x288 with 2 Axes>"
      ]
     },
     "metadata": {
      "needs_background": "light"
     },
     "output_type": "display_data"
    }
   ],
   "source": [
    "plot_confusion_matrix(gradient, X_test, y_test)"
   ]
  },
  {
   "cell_type": "markdown",
   "metadata": {},
   "source": [
    "**6) Naive Bayes**"
   ]
  },
  {
   "cell_type": "code",
   "execution_count": 39,
   "metadata": {},
   "outputs": [
    {
     "data": {
      "text/plain": [
       "<sklearn.metrics._plot.confusion_matrix.ConfusionMatrixDisplay at 0x29d22a76d90>"
      ]
     },
     "execution_count": 39,
     "metadata": {},
     "output_type": "execute_result"
    },
    {
     "data": {
      "image/png": "[encoded data removed]",
      "text/plain": [
       "<Figure size 432x288 with 2 Axes>"
      ]
     },
     "metadata": {
      "needs_background": "light"
     },
     "output_type": "display_data"
    }
   ],
   "source": [
    "plot_confusion_matrix(nb, X_test, y_test)"
   ]
  },
  {
   "cell_type": "markdown",
   "metadata": {},
   "source": [
    "**7) KNN**"
   ]
  },
  {
   "cell_type": "code",
   "execution_count": 40,
   "metadata": {},
   "outputs": [
    {
     "data": {
      "text/plain": [
       "<sklearn.metrics._plot.confusion_matrix.ConfusionMatrixDisplay at 0x29d22990370>"
      ]
     },
     "execution_count": 40,
     "metadata": {},
     "output_type": "execute_result"
    },
    {
     "data": {
      "image/png": "[encoded data removed]",
      "text/plain": [
       "<Figure size 432x288 with 2 Axes>"
      ]
     },
     "metadata": {
      "needs_background": "light"
     },
     "output_type": "display_data"
    }
   ],
   "source": [
    "plot_confusion_matrix(knn, X_test, y_test)"
   ]
  }
 ],
 "metadata": {
  "kernelspec": {
   "display_name": "Python 3",
   "language": "python",
   "name": "python3"
  },
  "language_info": {
   "codemirror_mode": {
    "name": "ipython",
    "version": 3
   },
   "file_extension": ".py",
   "mimetype": "text/x-python",
   "name": "python",
   "nbconvert_exporter": "python",
   "pygments_lexer": "ipython3",
   "version": "3.8.5"
  }
 },
 "nbformat": 4,
 "nbformat_minor": 4
}
