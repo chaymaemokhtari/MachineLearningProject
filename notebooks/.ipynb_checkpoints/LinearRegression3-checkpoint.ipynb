{
 "cells": [
  {
   "cell_type": "code",
   "execution_count": 1,
   "metadata": {},
   "outputs": [],
   "source": [
    "## ************ Importation des libraries ******************\n",
    "import pandas as pd ##une librarie d'analyse et manipulation de données\n",
    "import numpy as np ##librairie destinée à l'analyse et manipulation des matrices et des tableaux multidimentionnels\n",
    "import matplotlib.pyplot as plt ## librarie pour la représentation graphique \n",
    "import math\n",
    "## la librairie de sklearn est destinée à l'apprentissage automatique \n",
    "from sklearn.model_selection import train_test_split ##ceci est pour la division du dataset en un training set et un testing set\n",
    "from sklearn.linear_model import LinearRegression\n",
    "from sklearn import metrics ## les différents metriques qu'on va utiliser pour mesurer la performance de notre modèle\n",
    "import joblib  ##librarie pour la transformation des modèles en des fichiers .pkl pour les exploiter dans le site web"
   ]
  },
  {
   "cell_type": "code",
   "execution_count": 2,
   "metadata": {},
   "outputs": [],
   "source": [
    "#lecture de dataset en dataframe\n",
    "df = pd.read_csv('df_linreg.csv')\n",
    "df = df.drop(df.columns[0],axis=1)"
   ]
  },
  {
   "cell_type": "code",
   "execution_count": 3,
   "metadata": {},
   "outputs": [
    {
     "data": {
      "text/html": [
       "<div>\n",
       "<style scoped>\n",
       "    .dataframe tbody tr th:only-of-type {\n",
       "        vertical-align: middle;\n",
       "    }\n",
       "\n",
       "    .dataframe tbody tr th {\n",
       "        vertical-align: top;\n",
       "    }\n",
       "\n",
       "    .dataframe thead th {\n",
       "        text-align: right;\n",
       "    }\n",
       "</style>\n",
       "<table border=\"1\" class=\"dataframe\">\n",
       "  <thead>\n",
       "    <tr style=\"text-align: right;\">\n",
       "      <th></th>\n",
       "      <th>G1</th>\n",
       "      <th>G3</th>\n",
       "    </tr>\n",
       "  </thead>\n",
       "  <tbody>\n",
       "    <tr>\n",
       "      <th>0</th>\n",
       "      <td>5</td>\n",
       "      <td>6</td>\n",
       "    </tr>\n",
       "    <tr>\n",
       "      <th>1</th>\n",
       "      <td>5</td>\n",
       "      <td>6</td>\n",
       "    </tr>\n",
       "    <tr>\n",
       "      <th>2</th>\n",
       "      <td>7</td>\n",
       "      <td>10</td>\n",
       "    </tr>\n",
       "    <tr>\n",
       "      <th>3</th>\n",
       "      <td>15</td>\n",
       "      <td>15</td>\n",
       "    </tr>\n",
       "    <tr>\n",
       "      <th>4</th>\n",
       "      <td>6</td>\n",
       "      <td>10</td>\n",
       "    </tr>\n",
       "    <tr>\n",
       "      <th>...</th>\n",
       "      <td>...</td>\n",
       "      <td>...</td>\n",
       "    </tr>\n",
       "    <tr>\n",
       "      <th>390</th>\n",
       "      <td>9</td>\n",
       "      <td>9</td>\n",
       "    </tr>\n",
       "    <tr>\n",
       "      <th>391</th>\n",
       "      <td>14</td>\n",
       "      <td>16</td>\n",
       "    </tr>\n",
       "    <tr>\n",
       "      <th>392</th>\n",
       "      <td>10</td>\n",
       "      <td>7</td>\n",
       "    </tr>\n",
       "    <tr>\n",
       "      <th>393</th>\n",
       "      <td>11</td>\n",
       "      <td>10</td>\n",
       "    </tr>\n",
       "    <tr>\n",
       "      <th>394</th>\n",
       "      <td>8</td>\n",
       "      <td>9</td>\n",
       "    </tr>\n",
       "  </tbody>\n",
       "</table>\n",
       "<p>395 rows × 2 columns</p>\n",
       "</div>"
      ],
      "text/plain": [
       "     G1  G3\n",
       "0     5   6\n",
       "1     5   6\n",
       "2     7  10\n",
       "3    15  15\n",
       "4     6  10\n",
       "..   ..  ..\n",
       "390   9   9\n",
       "391  14  16\n",
       "392  10   7\n",
       "393  11  10\n",
       "394   8   9\n",
       "\n",
       "[395 rows x 2 columns]"
      ]
     },
     "execution_count": 3,
     "metadata": {},
     "output_type": "execute_result"
    }
   ],
   "source": [
    "#garder juste G1 comme feature et G3 comme target\n",
    "df = df[[\"G1\",\"G3\"]]\n",
    "df"
   ]
  },
  {
   "cell_type": "code",
   "execution_count": 4,
   "metadata": {},
   "outputs": [],
   "source": [
    "# division du feature et de target \n",
    "X= df.drop([\"G3\"], axis=1)\n",
    "y= df[\"G3\"]"
   ]
  },
  {
   "cell_type": "code",
   "execution_count": 5,
   "metadata": {},
   "outputs": [
    {
     "data": {
      "text/plain": [
       "LinearRegression()"
      ]
     },
     "execution_count": 5,
     "metadata": {},
     "output_type": "execute_result"
    }
   ],
   "source": [
    "#division du dataset en un training set et un testing set \n",
    "X_train, X_test, y_train, y_test = train_test_split(X, y, test_size = 0.2, random_state=0)\n",
    "## application de la régression linéraire\n",
    "model = LinearRegression()\n",
    "## training du modèle\n",
    "model.fit(X_train, y_train)"
   ]
  },
  {
   "cell_type": "code",
   "execution_count": 6,
   "metadata": {
    "scrolled": true
   },
   "outputs": [
    {
     "name": "stdout",
     "output_type": "stream",
     "text": [
      "MSE : 8.38800753657445\n",
      "R squared : 0.6959638345717838\n",
      "2.8962057137873427\n"
     ]
    }
   ],
   "source": [
    "#prediction sur X_test\n",
    "predicted = model.predict(X_test)\n",
    "#utilisation des differentes métriques pour mesurer la performance du modèle\n",
    "print (\"MSE :\", metrics.mean_squared_error(y_test, predicted))\n",
    "print(\"R squared :\", metrics.r2_score(y_test, predicted))\n",
    "print(np.sqrt(metrics.mean_squared_error(y_test, predicted)))"
   ]
  },
  {
   "cell_type": "code",
   "execution_count": 7,
   "metadata": {},
   "outputs": [
    {
     "data": {
      "image/png": "[encoded data removed]",
      "text/plain": [
       "<Figure size 432x288 with 1 Axes>"
      ]
     },
     "metadata": {
      "needs_background": "light"
     },
     "output_type": "display_data"
    }
   ],
   "source": [
    "## graphe pour montrer la difference entre les valeurs attendus et les valeurss predicted \n",
    "fig, ax = plt.subplots()\n",
    "ax.scatter(y_test,predicted)\n",
    "ax.plot([y.min(), y.max()], [y.min(), y.max()], 'k--', lw=4)\n",
    "ax.set_xlabel('Measured')\n",
    "ax.set_ylabel('Predicted')\n",
    "plt.show()"
   ]
  },
  {
   "cell_type": "code",
   "execution_count": 8,
   "metadata": {},
   "outputs": [
    {
     "data": {
      "text/plain": [
       "['Model3/linreg_model3.pkl']"
      ]
     },
     "execution_count": 8,
     "metadata": {},
     "output_type": "execute_result"
    }
   ],
   "source": [
    "# enregistrement du modèle pour l'exploiter dans le site web\n",
    "linreg_file = \"Model3/linreg_model3.pkl\"\n",
    "joblib.dump(model, linreg_file)"
   ]
  }
 ],
 "metadata": {
  "kernelspec": {
   "display_name": "Python 3",
   "language": "python",
   "name": "python3"
  },
  "language_info": {
   "codemirror_mode": {
    "name": "ipython",
    "version": 3
   },
   "file_extension": ".py",
   "mimetype": "text/x-python",
   "name": "python",
   "nbconvert_exporter": "python",
   "pygments_lexer": "ipython3",
   "version": "3.8.5"
  }
 },
 "nbformat": 4,
 "nbformat_minor": 4
}
